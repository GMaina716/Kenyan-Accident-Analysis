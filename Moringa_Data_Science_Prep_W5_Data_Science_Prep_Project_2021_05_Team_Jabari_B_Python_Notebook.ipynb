{
  "nbformat": 4,
  "nbformat_minor": 0,
  "metadata": {
    "colab": {
      "name": "Moringa_Data_Science_Prep_W5_Data_Science_Prep_Project_2021_05_Team_Jabari_B_Python_Notebook.ipynb",
      "provenance": [],
      "collapsed_sections": [
        "8CDtoKjjotU6",
        "6uR4PTbMoSw5",
        "QZ6d-OKKxH_o",
        "_3yJtyzT2xmY",
        "rl9bIRMC2TBe",
        "P1GvVi-82tVW",
        "OUI48sFr23PJ",
        "6C19QdtdnKuS",
        "qVi4OLrNL170",
        "A96E2onvMD9Z",
        "KriQBLNuNaYx",
        "6t3ivZT2OCfE",
        "Mlqkq3bDdeQ0",
        "Z_VyD_DAOUAc",
        "2aR0sqrmPJZg",
        "6XZNuv7CP05n"
      ],
      "toc_visible": true,
      "include_colab_link": true
    },
    "kernelspec": {
      "name": "python3",
      "display_name": "Python 3"
    },
    "language_info": {
      "name": "python"
    }
  },
  "cells": [
    {
      "cell_type": "markdown",
      "metadata": {
        "id": "view-in-github",
        "colab_type": "text"
      },
      "source": [
        "<a href=\"https://colab.research.google.com/github/GMaina716/Kenyan-Accident-Analysis/blob/main/Moringa_Data_Science_Prep_W5_Data_Science_Prep_Project_2021_05_Team_Jabari_B_Python_Notebook.ipynb\" target=\"_parent\"><img src=\"https://colab.research.google.com/assets/colab-badge.svg\" alt=\"Open In Colab\"/></a>"
      ]
    },
    {
      "cell_type": "markdown",
      "metadata": {
        "id": "8CDtoKjjotU6"
      },
      "source": [
        "# Importing the Python Libraries and the Dataset"
      ]
    },
    {
      "cell_type": "code",
      "metadata": {
        "id": "nYj_wnT6n2MG"
      },
      "source": [
        "# Importing the Python libraries to be used in this project;\n",
        "# \n",
        "import pandas as pd\n",
        "import numpy as np\n",
        "import matplotlib.pyplot as plt"
      ],
      "execution_count": 1,
      "outputs": []
    },
    {
      "cell_type": "code",
      "metadata": {
        "id": "EUZtHjKbZBza",
        "colab": {
          "base_uri": "https://localhost:8080/",
          "height": 1000
        },
        "outputId": "e6b1c31e-11b7-44ac-e564-5e21aeb87738"
      },
      "source": [
        "# Creating a DataFrame from the Kenya Accidents Dataset;\n",
        "# \n",
        "accidents = pd.read_csv('/content/kenya-accidents-database - kenya-accidents-database.csv', delimiter = ',')\n",
        "accidents"
      ],
      "execution_count": 2,
      "outputs": [
        {
          "output_type": "execute_result",
          "data": {
            "text/html": [
              "<div>\n",
              "<style scoped>\n",
              "    .dataframe tbody tr th:only-of-type {\n",
              "        vertical-align: middle;\n",
              "    }\n",
              "\n",
              "    .dataframe tbody tr th {\n",
              "        vertical-align: top;\n",
              "    }\n",
              "\n",
              "    .dataframe thead th {\n",
              "        text-align: right;\n",
              "    }\n",
              "</style>\n",
              "<table border=\"1\" class=\"dataframe\">\n",
              "  <thead>\n",
              "    <tr style=\"text-align: right;\">\n",
              "      <th></th>\n",
              "      <th>TIME 24 HOURS</th>\n",
              "      <th>NEW_TIME</th>\n",
              "      <th>BASE/SUB BASE</th>\n",
              "      <th>COUNTY</th>\n",
              "      <th>ROAD</th>\n",
              "      <th>PLACE</th>\n",
              "      <th>BRIEF ACCIDENT DETAILS</th>\n",
              "      <th>GENDER</th>\n",
              "      <th>AGE</th>\n",
              "      <th>NEW_AGE</th>\n",
              "      <th>CAUSE CODE</th>\n",
              "      <th>VICTIM</th>\n",
              "      <th>NO.</th>\n",
              "      <th>Date DD/MM/YYYY</th>\n",
              "      <th>MALE_COUNT</th>\n",
              "      <th>FEMALE_COUNT</th>\n",
              "      <th>UNKNOWN_GENDER_COUNT</th>\n",
              "    </tr>\n",
              "  </thead>\n",
              "  <tbody>\n",
              "    <tr>\n",
              "      <th>0</th>\n",
              "      <td>630</td>\n",
              "      <td>6:30:00</td>\n",
              "      <td>KITUI</td>\n",
              "      <td>MAKUENI</td>\n",
              "      <td>KITUI-ITHOKWE</td>\n",
              "      <td>KITUI SCHOOL</td>\n",
              "      <td>HEAD ON COLLISION</td>\n",
              "      <td>M</td>\n",
              "      <td>26</td>\n",
              "      <td>26.0</td>\n",
              "      <td>7.0</td>\n",
              "      <td>M/CYCLIST</td>\n",
              "      <td>1</td>\n",
              "      <td>25/06/2016</td>\n",
              "      <td>1.0</td>\n",
              "      <td>0</td>\n",
              "      <td>0</td>\n",
              "    </tr>\n",
              "    <tr>\n",
              "      <th>1</th>\n",
              "      <td>830</td>\n",
              "      <td>8:30:00</td>\n",
              "      <td>VOI</td>\n",
              "      <td>TAITA TAVETA</td>\n",
              "      <td>MOMBASA-NAIROBI</td>\n",
              "      <td>IKANGA</td>\n",
              "      <td>HEAD ON COLLISION</td>\n",
              "      <td>M</td>\n",
              "      <td>28</td>\n",
              "      <td>28.0</td>\n",
              "      <td>25.0</td>\n",
              "      <td>M/CYCLIST</td>\n",
              "      <td>1</td>\n",
              "      <td>25/06/2016</td>\n",
              "      <td>1.0</td>\n",
              "      <td>0</td>\n",
              "      <td>0</td>\n",
              "    </tr>\n",
              "    <tr>\n",
              "      <th>2</th>\n",
              "      <td>1330</td>\n",
              "      <td>13:30:00</td>\n",
              "      <td>MARIAKANI</td>\n",
              "      <td>KILIFI</td>\n",
              "      <td>MOMBASA-NAIROBI</td>\n",
              "      <td>KATOLANI</td>\n",
              "      <td>THE UNKNOWN M/V HIT THE MOTOR CYCLE</td>\n",
              "      <td>M</td>\n",
              "      <td>A &amp; J</td>\n",
              "      <td>0.0</td>\n",
              "      <td>98.0</td>\n",
              "      <td>M/CYCLIST</td>\n",
              "      <td>1</td>\n",
              "      <td>25/06/2016</td>\n",
              "      <td>1.0</td>\n",
              "      <td>0</td>\n",
              "      <td>0</td>\n",
              "    </tr>\n",
              "    <tr>\n",
              "      <th>3</th>\n",
              "      <td>2100</td>\n",
              "      <td>21:00:00</td>\n",
              "      <td>ONGATA RONGAI</td>\n",
              "      <td>NAKURU</td>\n",
              "      <td>NAKURU-NAIROBI</td>\n",
              "      <td>MAASAI LODGE</td>\n",
              "      <td>THE VEHICLE KNOCKED DOWN A PEDESTRIAN WHO WAS ...</td>\n",
              "      <td>M</td>\n",
              "      <td>65</td>\n",
              "      <td>65.0</td>\n",
              "      <td>29.0</td>\n",
              "      <td>PEDESTRIAN</td>\n",
              "      <td>1</td>\n",
              "      <td>25/06/2016</td>\n",
              "      <td>1.0</td>\n",
              "      <td>0</td>\n",
              "      <td>0</td>\n",
              "    </tr>\n",
              "    <tr>\n",
              "      <th>4</th>\n",
              "      <td>1900</td>\n",
              "      <td>19:00:00</td>\n",
              "      <td>MATUU</td>\n",
              "      <td>MACHAKOS</td>\n",
              "      <td>MATUU-MWINGI</td>\n",
              "      <td>KIVANDINI</td>\n",
              "      <td>THE VEHICLE OVERTOOK A M/CYCLE AND LOST CONTRO...</td>\n",
              "      <td>M</td>\n",
              "      <td>A</td>\n",
              "      <td>0.0</td>\n",
              "      <td>10.0</td>\n",
              "      <td>PASSENGER</td>\n",
              "      <td>1</td>\n",
              "      <td>25/06/2016</td>\n",
              "      <td>1.0</td>\n",
              "      <td>0</td>\n",
              "      <td>0</td>\n",
              "    </tr>\n",
              "    <tr>\n",
              "      <th>...</th>\n",
              "      <td>...</td>\n",
              "      <td>...</td>\n",
              "      <td>...</td>\n",
              "      <td>...</td>\n",
              "      <td>...</td>\n",
              "      <td>...</td>\n",
              "      <td>...</td>\n",
              "      <td>...</td>\n",
              "      <td>...</td>\n",
              "      <td>...</td>\n",
              "      <td>...</td>\n",
              "      <td>...</td>\n",
              "      <td>...</td>\n",
              "      <td>...</td>\n",
              "      <td>...</td>\n",
              "      <td>...</td>\n",
              "      <td>...</td>\n",
              "    </tr>\n",
              "    <tr>\n",
              "      <th>1113</th>\n",
              "      <td>1730</td>\n",
              "      <td>17:30:00</td>\n",
              "      <td>KURIA</td>\n",
              "      <td>MIGORI</td>\n",
              "      <td>NTIMARU-KEHANCHA</td>\n",
              "      <td>TARANGANYA SHOPPING CENTRE</td>\n",
              "      <td>THE VEHICLE KNOCKED DOWN A PEDESTRIAN</td>\n",
              "      <td>M</td>\n",
              "      <td>J</td>\n",
              "      <td>0.0</td>\n",
              "      <td>36.0</td>\n",
              "      <td>PEDESTRIAN</td>\n",
              "      <td>1</td>\n",
              "      <td>11/11/2019</td>\n",
              "      <td>1.0</td>\n",
              "      <td>0</td>\n",
              "      <td>0</td>\n",
              "    </tr>\n",
              "    <tr>\n",
              "      <th>1114</th>\n",
              "      <td>1930</td>\n",
              "      <td>19:30:00</td>\n",
              "      <td>SAGANA</td>\n",
              "      <td>KIRINYAGA</td>\n",
              "      <td>KENOL-MAKUTANO</td>\n",
              "      <td>WACHORO AREA</td>\n",
              "      <td>THE CYCLE HIT THE STATIONARY VEHICLE</td>\n",
              "      <td>M</td>\n",
              "      <td>A</td>\n",
              "      <td>0.0</td>\n",
              "      <td>37.0</td>\n",
              "      <td>RIDER AND P/PASSENGER</td>\n",
              "      <td>2</td>\n",
              "      <td>12/11/2019</td>\n",
              "      <td>2.0</td>\n",
              "      <td>0</td>\n",
              "      <td>0</td>\n",
              "    </tr>\n",
              "    <tr>\n",
              "      <th>1115</th>\n",
              "      <td>2145</td>\n",
              "      <td>21:45:00</td>\n",
              "      <td>DTEO KASARANI</td>\n",
              "      <td>NAIROBI</td>\n",
              "      <td>THIKA RD</td>\n",
              "      <td>CAR WASH AREA</td>\n",
              "      <td>THE VEHICLE KNOCKED DOWN A PEDESTIRAN</td>\n",
              "      <td>M</td>\n",
              "      <td>20</td>\n",
              "      <td>20.0</td>\n",
              "      <td>98.0</td>\n",
              "      <td>PEDESTRIAN</td>\n",
              "      <td>1</td>\n",
              "      <td>13/11/2019</td>\n",
              "      <td>1.0</td>\n",
              "      <td>0</td>\n",
              "      <td>0</td>\n",
              "    </tr>\n",
              "    <tr>\n",
              "      <th>1116</th>\n",
              "      <td>2039</td>\n",
              "      <td>20:39:00</td>\n",
              "      <td>KANGUNDO</td>\n",
              "      <td>MAKUENI</td>\n",
              "      <td>NAIROBI-KANGUNDO</td>\n",
              "      <td>MAKENZIE AREA</td>\n",
              "      <td>THE VEHICLE COLLIDED HEAD ON WITH THE M/CYCLE</td>\n",
              "      <td>M</td>\n",
              "      <td>36</td>\n",
              "      <td>36.0</td>\n",
              "      <td>82.0</td>\n",
              "      <td>RIDER</td>\n",
              "      <td>1</td>\n",
              "      <td>14/11/2019</td>\n",
              "      <td>1.0</td>\n",
              "      <td>0</td>\n",
              "      <td>0</td>\n",
              "    </tr>\n",
              "    <tr>\n",
              "      <th>1117</th>\n",
              "      <td>139</td>\n",
              "      <td>1:39:00</td>\n",
              "      <td>DTEO DAGORETI</td>\n",
              "      <td>NAIROBI</td>\n",
              "      <td>WAIYAKI WAY</td>\n",
              "      <td>KANGEMI STAGE</td>\n",
              "      <td>THE VEHICLE KNOCKED DOWN A PEDESTRIAN</td>\n",
              "      <td>M</td>\n",
              "      <td>A</td>\n",
              "      <td>0.0</td>\n",
              "      <td>98.0</td>\n",
              "      <td>PEDESTRIAN</td>\n",
              "      <td>1</td>\n",
              "      <td>15/11/2019</td>\n",
              "      <td>1.0</td>\n",
              "      <td>0</td>\n",
              "      <td>0</td>\n",
              "    </tr>\n",
              "  </tbody>\n",
              "</table>\n",
              "<p>1118 rows × 17 columns</p>\n",
              "</div>"
            ],
            "text/plain": [
              "     TIME 24 HOURS  NEW_TIME  ... FEMALE_COUNT UNKNOWN_GENDER_COUNT\n",
              "0              630   6:30:00  ...            0                    0\n",
              "1              830   8:30:00  ...            0                    0\n",
              "2             1330  13:30:00  ...            0                    0\n",
              "3             2100  21:00:00  ...            0                    0\n",
              "4             1900  19:00:00  ...            0                    0\n",
              "...            ...       ...  ...          ...                  ...\n",
              "1113          1730  17:30:00  ...            0                    0\n",
              "1114          1930  19:30:00  ...            0                    0\n",
              "1115          2145  21:45:00  ...            0                    0\n",
              "1116          2039  20:39:00  ...            0                    0\n",
              "1117           139   1:39:00  ...            0                    0\n",
              "\n",
              "[1118 rows x 17 columns]"
            ]
          },
          "metadata": {
            "tags": []
          },
          "execution_count": 2
        }
      ]
    },
    {
      "cell_type": "markdown",
      "metadata": {
        "id": "6uR4PTbMoSw5"
      },
      "source": [
        "# Data Understanding"
      ]
    },
    {
      "cell_type": "code",
      "metadata": {
        "id": "t6P7QxlnoYdC",
        "colab": {
          "base_uri": "https://localhost:8080/",
          "height": 0
        },
        "outputId": "e4cce743-570a-441b-ef42-d49e760b91a2"
      },
      "source": [
        "# Previewing the first 5 rows of the DataFrame;\n",
        "# \n",
        "accidents.head(5)"
      ],
      "execution_count": 3,
      "outputs": [
        {
          "output_type": "execute_result",
          "data": {
            "text/html": [
              "<div>\n",
              "<style scoped>\n",
              "    .dataframe tbody tr th:only-of-type {\n",
              "        vertical-align: middle;\n",
              "    }\n",
              "\n",
              "    .dataframe tbody tr th {\n",
              "        vertical-align: top;\n",
              "    }\n",
              "\n",
              "    .dataframe thead th {\n",
              "        text-align: right;\n",
              "    }\n",
              "</style>\n",
              "<table border=\"1\" class=\"dataframe\">\n",
              "  <thead>\n",
              "    <tr style=\"text-align: right;\">\n",
              "      <th></th>\n",
              "      <th>TIME 24 HOURS</th>\n",
              "      <th>NEW_TIME</th>\n",
              "      <th>BASE/SUB BASE</th>\n",
              "      <th>COUNTY</th>\n",
              "      <th>ROAD</th>\n",
              "      <th>PLACE</th>\n",
              "      <th>BRIEF ACCIDENT DETAILS</th>\n",
              "      <th>GENDER</th>\n",
              "      <th>AGE</th>\n",
              "      <th>NEW_AGE</th>\n",
              "      <th>CAUSE CODE</th>\n",
              "      <th>VICTIM</th>\n",
              "      <th>NO.</th>\n",
              "      <th>Date DD/MM/YYYY</th>\n",
              "      <th>MALE_COUNT</th>\n",
              "      <th>FEMALE_COUNT</th>\n",
              "      <th>UNKNOWN_GENDER_COUNT</th>\n",
              "    </tr>\n",
              "  </thead>\n",
              "  <tbody>\n",
              "    <tr>\n",
              "      <th>0</th>\n",
              "      <td>630</td>\n",
              "      <td>6:30:00</td>\n",
              "      <td>KITUI</td>\n",
              "      <td>MAKUENI</td>\n",
              "      <td>KITUI-ITHOKWE</td>\n",
              "      <td>KITUI SCHOOL</td>\n",
              "      <td>HEAD ON COLLISION</td>\n",
              "      <td>M</td>\n",
              "      <td>26</td>\n",
              "      <td>26.0</td>\n",
              "      <td>7.0</td>\n",
              "      <td>M/CYCLIST</td>\n",
              "      <td>1</td>\n",
              "      <td>25/06/2016</td>\n",
              "      <td>1.0</td>\n",
              "      <td>0</td>\n",
              "      <td>0</td>\n",
              "    </tr>\n",
              "    <tr>\n",
              "      <th>1</th>\n",
              "      <td>830</td>\n",
              "      <td>8:30:00</td>\n",
              "      <td>VOI</td>\n",
              "      <td>TAITA TAVETA</td>\n",
              "      <td>MOMBASA-NAIROBI</td>\n",
              "      <td>IKANGA</td>\n",
              "      <td>HEAD ON COLLISION</td>\n",
              "      <td>M</td>\n",
              "      <td>28</td>\n",
              "      <td>28.0</td>\n",
              "      <td>25.0</td>\n",
              "      <td>M/CYCLIST</td>\n",
              "      <td>1</td>\n",
              "      <td>25/06/2016</td>\n",
              "      <td>1.0</td>\n",
              "      <td>0</td>\n",
              "      <td>0</td>\n",
              "    </tr>\n",
              "    <tr>\n",
              "      <th>2</th>\n",
              "      <td>1330</td>\n",
              "      <td>13:30:00</td>\n",
              "      <td>MARIAKANI</td>\n",
              "      <td>KILIFI</td>\n",
              "      <td>MOMBASA-NAIROBI</td>\n",
              "      <td>KATOLANI</td>\n",
              "      <td>THE UNKNOWN M/V HIT THE MOTOR CYCLE</td>\n",
              "      <td>M</td>\n",
              "      <td>A &amp; J</td>\n",
              "      <td>0.0</td>\n",
              "      <td>98.0</td>\n",
              "      <td>M/CYCLIST</td>\n",
              "      <td>1</td>\n",
              "      <td>25/06/2016</td>\n",
              "      <td>1.0</td>\n",
              "      <td>0</td>\n",
              "      <td>0</td>\n",
              "    </tr>\n",
              "    <tr>\n",
              "      <th>3</th>\n",
              "      <td>2100</td>\n",
              "      <td>21:00:00</td>\n",
              "      <td>ONGATA RONGAI</td>\n",
              "      <td>NAKURU</td>\n",
              "      <td>NAKURU-NAIROBI</td>\n",
              "      <td>MAASAI LODGE</td>\n",
              "      <td>THE VEHICLE KNOCKED DOWN A PEDESTRIAN WHO WAS ...</td>\n",
              "      <td>M</td>\n",
              "      <td>65</td>\n",
              "      <td>65.0</td>\n",
              "      <td>29.0</td>\n",
              "      <td>PEDESTRIAN</td>\n",
              "      <td>1</td>\n",
              "      <td>25/06/2016</td>\n",
              "      <td>1.0</td>\n",
              "      <td>0</td>\n",
              "      <td>0</td>\n",
              "    </tr>\n",
              "    <tr>\n",
              "      <th>4</th>\n",
              "      <td>1900</td>\n",
              "      <td>19:00:00</td>\n",
              "      <td>MATUU</td>\n",
              "      <td>MACHAKOS</td>\n",
              "      <td>MATUU-MWINGI</td>\n",
              "      <td>KIVANDINI</td>\n",
              "      <td>THE VEHICLE OVERTOOK A M/CYCLE AND LOST CONTRO...</td>\n",
              "      <td>M</td>\n",
              "      <td>A</td>\n",
              "      <td>0.0</td>\n",
              "      <td>10.0</td>\n",
              "      <td>PASSENGER</td>\n",
              "      <td>1</td>\n",
              "      <td>25/06/2016</td>\n",
              "      <td>1.0</td>\n",
              "      <td>0</td>\n",
              "      <td>0</td>\n",
              "    </tr>\n",
              "  </tbody>\n",
              "</table>\n",
              "</div>"
            ],
            "text/plain": [
              "  TIME 24 HOURS  NEW_TIME  ... FEMALE_COUNT UNKNOWN_GENDER_COUNT\n",
              "0           630   6:30:00  ...            0                    0\n",
              "1           830   8:30:00  ...            0                    0\n",
              "2          1330  13:30:00  ...            0                    0\n",
              "3          2100  21:00:00  ...            0                    0\n",
              "4          1900  19:00:00  ...            0                    0\n",
              "\n",
              "[5 rows x 17 columns]"
            ]
          },
          "metadata": {
            "tags": []
          },
          "execution_count": 3
        }
      ]
    },
    {
      "cell_type": "code",
      "metadata": {
        "id": "rWM9hArUohnz",
        "colab": {
          "base_uri": "https://localhost:8080/"
        },
        "outputId": "bf064de0-b98c-4c1d-990f-d5f2a10a9e3b"
      },
      "source": [
        "# Checking the shape (that is, the number of rows and columns) of the DataFrame;\n",
        "# \n",
        "print('shape of the dataset: ', accidents.shape)\n",
        "print('dimensions of the dataset: ', accidents.ndim)\n",
        "print('size of the dataset: ', accidents.size)"
      ],
      "execution_count": 4,
      "outputs": [
        {
          "output_type": "stream",
          "text": [
            "shape of the dataset:  (1118, 17)\n",
            "dimensions of the dataset:  2\n",
            "size of the dataset:  19006\n"
          ],
          "name": "stdout"
        }
      ]
    },
    {
      "cell_type": "code",
      "metadata": {
        "id": "SPH5f5hvpA2b",
        "colab": {
          "base_uri": "https://localhost:8080/"
        },
        "outputId": "f7929554-4fca-4d28-89e9-826aab9d803f"
      },
      "source": [
        "# Accessing information about our DataFrame;\n",
        "# \n",
        "accidents.info()"
      ],
      "execution_count": 5,
      "outputs": [
        {
          "output_type": "stream",
          "text": [
            "<class 'pandas.core.frame.DataFrame'>\n",
            "RangeIndex: 1118 entries, 0 to 1117\n",
            "Data columns (total 17 columns):\n",
            " #   Column                  Non-Null Count  Dtype  \n",
            "---  ------                  --------------  -----  \n",
            " 0   TIME 24 HOURS           1113 non-null   object \n",
            " 1   NEW_TIME                1118 non-null   object \n",
            " 2   BASE/SUB BASE           1116 non-null   object \n",
            " 3   COUNTY                  1115 non-null   object \n",
            " 4   ROAD                    1115 non-null   object \n",
            " 5   PLACE                   1112 non-null   object \n",
            " 6   BRIEF ACCIDENT DETAILS  1117 non-null   object \n",
            " 7   GENDER                  1118 non-null   object \n",
            " 8   AGE                     1117 non-null   object \n",
            " 9   NEW_AGE                 1117 non-null   float64\n",
            " 10  CAUSE CODE              1090 non-null   float64\n",
            " 11  VICTIM                  1118 non-null   object \n",
            " 12  NO.                     1118 non-null   int64  \n",
            " 13  Date DD/MM/YYYY         1118 non-null   object \n",
            " 14  MALE_COUNT              1117 non-null   float64\n",
            " 15  FEMALE_COUNT            1118 non-null   int64  \n",
            " 16  UNKNOWN_GENDER_COUNT    1118 non-null   int64  \n",
            "dtypes: float64(3), int64(3), object(11)\n",
            "memory usage: 148.6+ KB\n"
          ],
          "name": "stdout"
        }
      ]
    },
    {
      "cell_type": "code",
      "metadata": {
        "id": "E0V2KjHfpIno",
        "colab": {
          "base_uri": "https://localhost:8080/",
          "height": 0
        },
        "outputId": "640866bd-f2ca-495a-c95a-a623c6e61b94"
      },
      "source": [
        "# Exploring the descriptive statistics of the numerical values in the dataset;\n",
        "# \n",
        "accidents.describe().T"
      ],
      "execution_count": 6,
      "outputs": [
        {
          "output_type": "execute_result",
          "data": {
            "text/html": [
              "<div>\n",
              "<style scoped>\n",
              "    .dataframe tbody tr th:only-of-type {\n",
              "        vertical-align: middle;\n",
              "    }\n",
              "\n",
              "    .dataframe tbody tr th {\n",
              "        vertical-align: top;\n",
              "    }\n",
              "\n",
              "    .dataframe thead th {\n",
              "        text-align: right;\n",
              "    }\n",
              "</style>\n",
              "<table border=\"1\" class=\"dataframe\">\n",
              "  <thead>\n",
              "    <tr style=\"text-align: right;\">\n",
              "      <th></th>\n",
              "      <th>count</th>\n",
              "      <th>mean</th>\n",
              "      <th>std</th>\n",
              "      <th>min</th>\n",
              "      <th>25%</th>\n",
              "      <th>50%</th>\n",
              "      <th>75%</th>\n",
              "      <th>max</th>\n",
              "    </tr>\n",
              "  </thead>\n",
              "  <tbody>\n",
              "    <tr>\n",
              "      <th>NEW_AGE</th>\n",
              "      <td>1117.0</td>\n",
              "      <td>16.264608</td>\n",
              "      <td>20.162480</td>\n",
              "      <td>0.0</td>\n",
              "      <td>0.0</td>\n",
              "      <td>0.0</td>\n",
              "      <td>31.00</td>\n",
              "      <td>90.0</td>\n",
              "    </tr>\n",
              "    <tr>\n",
              "      <th>CAUSE CODE</th>\n",
              "      <td>1090.0</td>\n",
              "      <td>47.596330</td>\n",
              "      <td>33.340638</td>\n",
              "      <td>1.0</td>\n",
              "      <td>19.0</td>\n",
              "      <td>37.0</td>\n",
              "      <td>76.75</td>\n",
              "      <td>99.0</td>\n",
              "    </tr>\n",
              "    <tr>\n",
              "      <th>NO.</th>\n",
              "      <td>1118.0</td>\n",
              "      <td>1.181574</td>\n",
              "      <td>0.964982</td>\n",
              "      <td>1.0</td>\n",
              "      <td>1.0</td>\n",
              "      <td>1.0</td>\n",
              "      <td>1.00</td>\n",
              "      <td>18.0</td>\n",
              "    </tr>\n",
              "    <tr>\n",
              "      <th>MALE_COUNT</th>\n",
              "      <td>1117.0</td>\n",
              "      <td>0.960609</td>\n",
              "      <td>0.753883</td>\n",
              "      <td>0.0</td>\n",
              "      <td>1.0</td>\n",
              "      <td>1.0</td>\n",
              "      <td>1.00</td>\n",
              "      <td>17.0</td>\n",
              "    </tr>\n",
              "    <tr>\n",
              "      <th>FEMALE_COUNT</th>\n",
              "      <td>1118.0</td>\n",
              "      <td>0.170841</td>\n",
              "      <td>0.452160</td>\n",
              "      <td>0.0</td>\n",
              "      <td>0.0</td>\n",
              "      <td>0.0</td>\n",
              "      <td>0.00</td>\n",
              "      <td>5.0</td>\n",
              "    </tr>\n",
              "    <tr>\n",
              "      <th>UNKNOWN_GENDER_COUNT</th>\n",
              "      <td>1118.0</td>\n",
              "      <td>0.046512</td>\n",
              "      <td>0.587532</td>\n",
              "      <td>0.0</td>\n",
              "      <td>0.0</td>\n",
              "      <td>0.0</td>\n",
              "      <td>0.00</td>\n",
              "      <td>16.0</td>\n",
              "    </tr>\n",
              "  </tbody>\n",
              "</table>\n",
              "</div>"
            ],
            "text/plain": [
              "                       count       mean        std  ...   50%    75%   max\n",
              "NEW_AGE               1117.0  16.264608  20.162480  ...   0.0  31.00  90.0\n",
              "CAUSE CODE            1090.0  47.596330  33.340638  ...  37.0  76.75  99.0\n",
              "NO.                   1118.0   1.181574   0.964982  ...   1.0   1.00  18.0\n",
              "MALE_COUNT            1117.0   0.960609   0.753883  ...   1.0   1.00  17.0\n",
              "FEMALE_COUNT          1118.0   0.170841   0.452160  ...   0.0   0.00   5.0\n",
              "UNKNOWN_GENDER_COUNT  1118.0   0.046512   0.587532  ...   0.0   0.00  16.0\n",
              "\n",
              "[6 rows x 8 columns]"
            ]
          },
          "metadata": {
            "tags": []
          },
          "execution_count": 6
        }
      ]
    },
    {
      "cell_type": "code",
      "metadata": {
        "colab": {
          "base_uri": "https://localhost:8080/"
        },
        "id": "6VK9UsDuIPs8",
        "outputId": "6a5b489a-e53c-4eb5-e45b-68893e5e56fd"
      },
      "source": [
        "# Checking the distribution of the data;\n",
        "# \n",
        "accidents.kurt()"
      ],
      "execution_count": 7,
      "outputs": [
        {
          "output_type": "execute_result",
          "data": {
            "text/plain": [
              "NEW_AGE                  -0.095255\n",
              "CAUSE CODE               -1.360882\n",
              "NO.                     158.952486\n",
              "MALE_COUNT              199.276064\n",
              "FEMALE_COUNT             21.456257\n",
              "UNKNOWN_GENDER_COUNT    516.254328\n",
              "dtype: float64"
            ]
          },
          "metadata": {
            "tags": []
          },
          "execution_count": 7
        }
      ]
    },
    {
      "cell_type": "code",
      "metadata": {
        "id": "Oa0I3U5FdWf8"
      },
      "source": [
        "# Plotting the bell-shaped curve;\n",
        "# \n",
        "#plt.style.use('NEW_AGE')\n",
        "#plt.figure(figsize = (6, 6))\n",
        "#plt.plot(x, y, color = 'black',\n",
        "#         linestyle = 'dashed')\n",
        "  \n",
        "#plt.scatter(x, y, marker = 'o',\n",
        "#            s = 25, color = 'red')\n",
        "\n",
        "#plt.fill_between(x_fill, y_fill, 0,\n",
        "#                 alpha = 0.2, color = 'blue')\n",
        "#plt.show()"
      ],
      "execution_count": 8,
      "outputs": []
    },
    {
      "cell_type": "markdown",
      "metadata": {
        "id": "IAVoiX2DoHg-"
      },
      "source": [
        "# Data Preparation"
      ]
    },
    {
      "cell_type": "markdown",
      "metadata": {
        "id": "QZ6d-OKKxH_o"
      },
      "source": [
        "#### Exploring the relevant columns in the DataFrame ;"
      ]
    },
    {
      "cell_type": "code",
      "metadata": {
        "id": "1sLS47Nipx21",
        "colab": {
          "base_uri": "https://localhost:8080/"
        },
        "outputId": "c0cdd380-6fd5-4ec0-ecd4-a15c068732fe"
      },
      "source": [
        "# Printing out the column names;\n",
        "# \n",
        "accidents.columns"
      ],
      "execution_count": 9,
      "outputs": [
        {
          "output_type": "execute_result",
          "data": {
            "text/plain": [
              "Index(['TIME 24 HOURS', 'NEW_TIME', 'BASE/SUB BASE', 'COUNTY', 'ROAD', 'PLACE',\n",
              "       'BRIEF ACCIDENT DETAILS', 'GENDER', 'AGE', 'NEW_AGE', 'CAUSE CODE',\n",
              "       'VICTIM', 'NO.', 'Date DD/MM/YYYY', 'MALE_COUNT', 'FEMALE_COUNT',\n",
              "       'UNKNOWN_GENDER_COUNT'],\n",
              "      dtype='object')"
            ]
          },
          "metadata": {
            "tags": []
          },
          "execution_count": 9
        }
      ]
    },
    {
      "cell_type": "code",
      "metadata": {
        "colab": {
          "base_uri": "https://localhost:8080/"
        },
        "id": "mj5N5WQdw7zm",
        "outputId": "aab87612-f7f1-402a-b80c-a00dc2cdde3a"
      },
      "source": [
        "# The time the accident occurred, 'TIME 24 HOURS';\n",
        "# \n",
        "accidents['TIME 24 HOURS'].unique()"
      ],
      "execution_count": 10,
      "outputs": [
        {
          "output_type": "execute_result",
          "data": {
            "text/plain": [
              "array(['630', '830', '1330', '2100', '1900', '2130', '1200', '1930',\n",
              "       '2030', '40', '300', '1150', '330', '1700', '800', '1015', '1030',\n",
              "       '1300', '640', '900', '2225', '115', '545', '720', '1525', '1230',\n",
              "       '1100', 'UNKNOWN TIME', '1120', '1500', '1830', '2330', '2200',\n",
              "       '2230', '110', '1920', '2245', '2010', '2045', '645', '220',\n",
              "       '2015', '930', '1800', '1210', '1730', '100', '2350', '2000',\n",
              "       '2020', '1945', '1215', '1130', '2140', '1250', '1240', '400',\n",
              "       '2040', '730', '230', '950', '2025', '2120', '2345', '810', '915',\n",
              "       '1530', '2055', '30', '1710', '700', '1925', '1630', '745', '1004',\n",
              "       '1000', '1400', '500', '1430', '1610', '2300', '2340', '725',\n",
              "       '1345', '1540', '815', nan, '1820', '355', '610', '1600', '1720',\n",
              "       '200', '945', '2315', '2050', '1245', '1750', '615', '2035',\n",
              "       '1455', '1950', '1', '1520', '1620', '2139', '130', '1615', '1714',\n",
              "       '2145', '129', '1201', '1246', '1605', '1420', '10', '120', '530',\n",
              "       '2215', '1550', '1105', '1350', '1140', '1955', '600', '940',\n",
              "       '904', '1845', '2205', '2142', '140', '1645', '310', '45', '240',\n",
              "       '715', '1515', '2110', '1747', '1745', '2136', '1940', '430',\n",
              "       '1440', '1640', '345', 'UNKNOWN', '2210', '5', '1545', '1320',\n",
              "       '1740', '1810', '1840', '50', '440', '620', '2320', '320', '1045',\n",
              "       '845', '20', '1050', '1445', '1815', '215', '2155', '2240', '820',\n",
              "       '15', '210', '1410', '2115', '17', '1340', '1856', '1438', '835',\n",
              "       '0700 HRS', '0600 HRS', '0045 HRS', '0500hrs', '1725', '710',\n",
              "       'NAROK', '1830HRS', '845HRS', '1530HRS', '1730HRS', '0600HRS',\n",
              "       '0220HRS', '445', '840', '1145', '1220', '1205', '1850', '2039',\n",
              "       '139'], dtype=object)"
            ]
          },
          "metadata": {
            "tags": []
          },
          "execution_count": 10
        }
      ]
    },
    {
      "cell_type": "code",
      "metadata": {
        "colab": {
          "base_uri": "https://localhost:8080/"
        },
        "id": "TSxGfiYg4SsC",
        "outputId": "8d4462c2-9db7-4589-8e02-e0ec9b5def16"
      },
      "source": [
        "# The most frequently recorded time;\n",
        "# \n",
        "accidents['TIME 24 HOURS'].mode()"
      ],
      "execution_count": 11,
      "outputs": [
        {
          "output_type": "execute_result",
          "data": {
            "text/plain": [
              "0    2030\n",
              "dtype: object"
            ]
          },
          "metadata": {
            "tags": []
          },
          "execution_count": 11
        }
      ]
    },
    {
      "cell_type": "code",
      "metadata": {
        "id": "jGLoEQajxsFe",
        "colab": {
          "base_uri": "https://localhost:8080/"
        },
        "outputId": "45e92154-da36-40ab-82f0-f3585ae8e3c9"
      },
      "source": [
        "# The time the accident occurred 'NEW_TIME';\n",
        "# \n",
        "accidents['NEW_TIME'].unique()"
      ],
      "execution_count": 12,
      "outputs": [
        {
          "output_type": "execute_result",
          "data": {
            "text/plain": [
              "array(['6:30:00', '8:30:00', '13:30:00', '21:00:00', '19:00:00',\n",
              "       '21:30:00', '12:00:00', '19:30:00', '20:30:00', '0:40:00',\n",
              "       '3:00:00', '11:50:00', '3:30:00', '17:00:00', '8:00:00',\n",
              "       '10:15:00', '10:30:00', '13:00:00', '6:40:00', '9:00:00',\n",
              "       '22:25:00', '1:15:00', '5:45:00', '7:20:00', '15:25:00',\n",
              "       '12:30:00', '11:00:00', '11:20:00', '15:00:00', '18:30:00',\n",
              "       '23:30:00', '22:00:00', '22:30:00', '1:10:00', '19:20:00',\n",
              "       '22:45:00', '20:10:00', '20:45:00', '6:45:00', '2:20:00',\n",
              "       '20:15:00', '9:30:00', '18:00:00', '12:10:00', '17:30:00',\n",
              "       '1:00:00', '23:50:00', '20:00:00', '20:20:00', '19:45:00',\n",
              "       '12:15:00', '11:30:00', '21:40:00', '12:50:00', '12:40:00',\n",
              "       '4:00:00', '20:40:00', '7:30:00', '2:30:00', '9:50:00', '20:25:00',\n",
              "       '21:20:00', '23:45:00', '8:10:00', '9:15:00', '15:30:00',\n",
              "       '20:55:00', '0:30:00', '17:10:00', '7:00:00', '19:25:00',\n",
              "       '16:30:00', '7:45:00', '10:04:00', '10:00:00', '14:00:00',\n",
              "       '5:00:00', '14:30:00', '16:10:00', '23:00:00', '23:40:00',\n",
              "       '7:25:00', '13:45:00', '15:40:00', '8:15:00', '18:20:00',\n",
              "       '3:55:00', '6:10:00', '16:00:00', '17:20:00', '2:00:00', '9:45:00',\n",
              "       '23:15:00', '20:50:00', '12:45:00', '17:50:00', '6:15:00',\n",
              "       '20:35:00', '14:55:00', '19:50:00', '0:01:00', '15:20:00',\n",
              "       '16:20:00', '21:39:00', '1:30:00', '16:15:00', '17:14:00',\n",
              "       '21:45:00', '1:29:00', '12:01:00', '12:46:00', '16:05:00',\n",
              "       '14:20:00', '0:10:00', '1:20:00', '5:30:00', '22:15:00',\n",
              "       '15:50:00', '11:05:00', '13:50:00', '11:40:00', '19:55:00',\n",
              "       '6:00:00', '9:40:00', '9:04:00', '18:45:00', '22:05:00',\n",
              "       '21:42:00', '1:40:00', '16:45:00', '3:10:00', '0:45:00', '2:40:00',\n",
              "       '7:15:00', '15:15:00', '21:10:00', '17:47:00', '17:45:00',\n",
              "       '21:36:00', '19:40:00', '4:30:00', '14:40:00', '16:40:00',\n",
              "       '3:45:00', '22:10:00', '0:05:00', '15:45:00', '13:20:00',\n",
              "       '17:40:00', '18:10:00', '18:40:00', '0:50:00', '4:40:00',\n",
              "       '6:20:00', '23:20:00', '3:20:00', '10:45:00', '8:45:00', '0:20:00',\n",
              "       '10:50:00', '14:45:00', '18:15:00', '2:15:00', '21:55:00',\n",
              "       '22:40:00', '8:20:00', '0:15:00', '2:10:00', '14:10:00',\n",
              "       '21:15:00', '0:17:00', '13:40:00', '18:56:00', '14:38:00',\n",
              "       '8:35:00', '17:25:00', '7:10:00', '4:45:00', '8:40:00', '11:45:00',\n",
              "       '12:20:00', '12:05:00', '18:50:00', '20:39:00', '1:39:00'],\n",
              "      dtype=object)"
            ]
          },
          "metadata": {
            "tags": []
          },
          "execution_count": 12
        }
      ]
    },
    {
      "cell_type": "code",
      "metadata": {
        "colab": {
          "base_uri": "https://localhost:8080/"
        },
        "id": "quSIn95u-4_P",
        "outputId": "6c813967-c5fc-4fc5-9f0c-6c0758abb653"
      },
      "source": [
        "# The most frequently recorded time;\n",
        "# \n",
        "accidents['NEW_TIME'].mode()"
      ],
      "execution_count": 13,
      "outputs": [
        {
          "output_type": "execute_result",
          "data": {
            "text/plain": [
              "0    20:30:00\n",
              "dtype: object"
            ]
          },
          "metadata": {
            "tags": []
          },
          "execution_count": 13
        }
      ]
    },
    {
      "cell_type": "code",
      "metadata": {
        "colab": {
          "base_uri": "https://localhost:8080/",
          "height": 214
        },
        "id": "5YWqczOP-mo1",
        "outputId": "0089bc84-dcfc-4610-ba4f-2cdc3da96527"
      },
      "source": [
        "accidents[accidents['TIME 24 HOURS']=='NAROK']"
      ],
      "execution_count": 14,
      "outputs": [
        {
          "output_type": "execute_result",
          "data": {
            "text/html": [
              "<div>\n",
              "<style scoped>\n",
              "    .dataframe tbody tr th:only-of-type {\n",
              "        vertical-align: middle;\n",
              "    }\n",
              "\n",
              "    .dataframe tbody tr th {\n",
              "        vertical-align: top;\n",
              "    }\n",
              "\n",
              "    .dataframe thead th {\n",
              "        text-align: right;\n",
              "    }\n",
              "</style>\n",
              "<table border=\"1\" class=\"dataframe\">\n",
              "  <thead>\n",
              "    <tr style=\"text-align: right;\">\n",
              "      <th></th>\n",
              "      <th>TIME 24 HOURS</th>\n",
              "      <th>NEW_TIME</th>\n",
              "      <th>BASE/SUB BASE</th>\n",
              "      <th>COUNTY</th>\n",
              "      <th>ROAD</th>\n",
              "      <th>PLACE</th>\n",
              "      <th>BRIEF ACCIDENT DETAILS</th>\n",
              "      <th>GENDER</th>\n",
              "      <th>AGE</th>\n",
              "      <th>NEW_AGE</th>\n",
              "      <th>CAUSE CODE</th>\n",
              "      <th>VICTIM</th>\n",
              "      <th>NO.</th>\n",
              "      <th>Date DD/MM/YYYY</th>\n",
              "      <th>MALE_COUNT</th>\n",
              "      <th>FEMALE_COUNT</th>\n",
              "      <th>UNKNOWN_GENDER_COUNT</th>\n",
              "    </tr>\n",
              "  </thead>\n",
              "  <tbody>\n",
              "    <tr>\n",
              "      <th>996</th>\n",
              "      <td>NAROK</td>\n",
              "      <td>20:30:00</td>\n",
              "      <td>NaN</td>\n",
              "      <td>NAROK</td>\n",
              "      <td>NAROK- BOMET</td>\n",
              "      <td>OLOLUNGA TRADING CENTRE</td>\n",
              "      <td>THE T/L/CRUISER HIT THE M/CYCLIST KILLING THE ...</td>\n",
              "      <td>M</td>\n",
              "      <td>23</td>\n",
              "      <td>23.0</td>\n",
              "      <td>8.0</td>\n",
              "      <td>RIDER</td>\n",
              "      <td>1</td>\n",
              "      <td>17/07/2019</td>\n",
              "      <td>1.0</td>\n",
              "      <td>0</td>\n",
              "      <td>0</td>\n",
              "    </tr>\n",
              "  </tbody>\n",
              "</table>\n",
              "</div>"
            ],
            "text/plain": [
              "    TIME 24 HOURS  NEW_TIME  ... FEMALE_COUNT UNKNOWN_GENDER_COUNT\n",
              "996         NAROK  20:30:00  ...            0                    0\n",
              "\n",
              "[1 rows x 17 columns]"
            ]
          },
          "metadata": {
            "tags": []
          },
          "execution_count": 14
        }
      ]
    },
    {
      "cell_type": "code",
      "metadata": {
        "colab": {
          "base_uri": "https://localhost:8080/"
        },
        "id": "fpH10uOyxlQu",
        "outputId": "51987a24-a18e-4c6e-b32e-ef97e34fbcd0"
      },
      "source": [
        "# The county the accident occurred, 'COUNTY';\n",
        "# \n",
        "accidents['COUNTY'].unique()"
      ],
      "execution_count": 15,
      "outputs": [
        {
          "output_type": "execute_result",
          "data": {
            "text/plain": [
              "array(['MAKUENI', 'TAITA TAVETA', 'KILIFI', 'NAKURU', 'MACHAKOS',\n",
              "       'HOMA BAY', 'KIRINYAGA', 'NAIROBI', 'KIAMBU', 'MOMBASA', 'MERU',\n",
              "       'MIGORI', 'KISII', 'SIAYA', 'BUNGOMA', 'KWALE', 'NANDI',\n",
              "       'TRANS NZOIA', 'KAJIADO', 'UASIN GISHU', 'NAROK', 'KERCHO',\n",
              "       'KAKAMEGA', 'NYERI', 'KERICHO', 'EMBU', 'KISUMU', 'MURANGA',\n",
              "       'BUSIA', \"MURANG'A\", 'VIHIGA', 'GARISSA', 'BARINGO', 'LAIKIPIA',\n",
              "       'MWINGI', 'BOMET', 'NYAMIRA', 'ELGEYO MARAKWET', 'MAKURU',\n",
              "       'NYAHURURU', 'KITUI', nan, 'MARAKWET', 'NYANDARUA', 'WEST POKOT',\n",
              "       'THARAKA NITHI', 'MALINDI', 'TIGANIA', 'MANDERA', 'MARSABIT',\n",
              "       'HOMABAY', 'KILFI', 'TRAN NZOIA', 'ISIOLO', 'UASIN NGISHU',\n",
              "       'TAITA-TAVETA', 'HOMA-BAY', 'MOYALE'], dtype=object)"
            ]
          },
          "metadata": {
            "tags": []
          },
          "execution_count": 15
        }
      ]
    },
    {
      "cell_type": "code",
      "metadata": {
        "colab": {
          "base_uri": "https://localhost:8080/"
        },
        "id": "0RjB7VHpyDaS",
        "outputId": "2e4705f7-235a-4139-baea-82c6f089334c"
      },
      "source": [
        "# The gender of the victims, 'GENDER';\n",
        "# \n",
        "accidents['GENDER'].unique()"
      ],
      "execution_count": 16,
      "outputs": [
        {
          "output_type": "execute_result",
          "data": {
            "text/plain": [
              "array(['M', 'M & F', 'F', '2M & 2F', '2M, F', '2F & M', '2M & 3F',\n",
              "       '4F & INF', 'J', 'F/J', 'M/J', 'M&f', 'M&F', 'M/F', 'M AND F', '1',\n",
              "       'M & F/J', '2M & F', 'M/A'], dtype=object)"
            ]
          },
          "metadata": {
            "tags": []
          },
          "execution_count": 16
        }
      ]
    },
    {
      "cell_type": "code",
      "metadata": {
        "colab": {
          "base_uri": "https://localhost:8080/"
        },
        "id": "uPF_ZiCvyJAe",
        "outputId": "fb0fc280-f0b3-4b38-8fb9-27ce251edc1e"
      },
      "source": [
        "# The age of the victims, 'AGE';\n",
        "# \n",
        "accidents['AGE'].unique()"
      ],
      "execution_count": 17,
      "outputs": [
        {
          "output_type": "execute_result",
          "data": {
            "text/plain": [
              "array(['26', '28', 'A & J', '65', 'A', 'J/A', '15', '17', '38', '36',\n",
              "       '35', '7', '33', '29', '37', '19', '30', '13', '32', '1.5', '57',\n",
              "       'J', '40', '27', '17,43', '19 & 21', '55', '78', '60', '21', '9',\n",
              "       '14', '10', '70 & 66', '12', '54', '47', '23', '70', '18', '41',\n",
              "       '48', '73', '3', '20', '23 & 27', '49', '11', '5', '5 MONTHS',\n",
              "       '25', '90', '43', '24', '44', '50', '22', '71', '3 MONTHS', '6',\n",
              "       '39,30,40,33, & 30', '39', '42', '16', '31', '8', '29 & 32', '4',\n",
              "       '52', '22,65 & 9 MONTHS', '63', '45', '80', '30 & 33', '32, 40',\n",
              "       '6 MONTHS', '76', '58', '34', '59', '69', nan, '51', 'A&J', '2',\n",
              "       '46,47,34', '46', '21& 28', '20 & 25 YRS', '77', '34 AND 24', '53',\n",
              "       '45&52', '22 YRS', '28, 31 YRS', '61', '25&28', '52 &17', 'M',\n",
              "       '25&19', '21 & 21', '42,24,32', '56', '62', '40,38,45', '4MTS'],\n",
              "      dtype=object)"
            ]
          },
          "metadata": {
            "tags": []
          },
          "execution_count": 17
        }
      ]
    },
    {
      "cell_type": "code",
      "metadata": {
        "colab": {
          "base_uri": "https://localhost:8080/",
          "height": 147
        },
        "id": "w3lJ26Is7l_5",
        "outputId": "99af8fe3-00a9-4d1b-cf17-0da3f6c0fce6"
      },
      "source": [
        "accidents[accidents['AGE'] == '46,47,34']"
      ],
      "execution_count": 18,
      "outputs": [
        {
          "output_type": "execute_result",
          "data": {
            "text/html": [
              "<div>\n",
              "<style scoped>\n",
              "    .dataframe tbody tr th:only-of-type {\n",
              "        vertical-align: middle;\n",
              "    }\n",
              "\n",
              "    .dataframe tbody tr th {\n",
              "        vertical-align: top;\n",
              "    }\n",
              "\n",
              "    .dataframe thead th {\n",
              "        text-align: right;\n",
              "    }\n",
              "</style>\n",
              "<table border=\"1\" class=\"dataframe\">\n",
              "  <thead>\n",
              "    <tr style=\"text-align: right;\">\n",
              "      <th></th>\n",
              "      <th>TIME 24 HOURS</th>\n",
              "      <th>NEW_TIME</th>\n",
              "      <th>BASE/SUB BASE</th>\n",
              "      <th>COUNTY</th>\n",
              "      <th>ROAD</th>\n",
              "      <th>PLACE</th>\n",
              "      <th>BRIEF ACCIDENT DETAILS</th>\n",
              "      <th>GENDER</th>\n",
              "      <th>AGE</th>\n",
              "      <th>NEW_AGE</th>\n",
              "      <th>CAUSE CODE</th>\n",
              "      <th>VICTIM</th>\n",
              "      <th>NO.</th>\n",
              "      <th>Date DD/MM/YYYY</th>\n",
              "      <th>MALE_COUNT</th>\n",
              "      <th>FEMALE_COUNT</th>\n",
              "      <th>UNKNOWN_GENDER_COUNT</th>\n",
              "    </tr>\n",
              "  </thead>\n",
              "  <tbody>\n",
              "    <tr>\n",
              "      <th>815</th>\n",
              "      <td>1720</td>\n",
              "      <td>17:20:00</td>\n",
              "      <td>ATHI RIVER</td>\n",
              "      <td>MACHAKOS</td>\n",
              "      <td>NAIROBI-MOMBASA</td>\n",
              "      <td>SMALL WORLD</td>\n",
              "      <td>COLLIDED HEAD ON</td>\n",
              "      <td>M&amp;F</td>\n",
              "      <td>46,47,34</td>\n",
              "      <td>42.333333</td>\n",
              "      <td>8.0</td>\n",
              "      <td>DRIVER &amp; 2 PASSENGERS</td>\n",
              "      <td>3</td>\n",
              "      <td>17/01/2019</td>\n",
              "      <td>1.0</td>\n",
              "      <td>1</td>\n",
              "      <td>1</td>\n",
              "    </tr>\n",
              "  </tbody>\n",
              "</table>\n",
              "</div>"
            ],
            "text/plain": [
              "    TIME 24 HOURS  NEW_TIME  ... FEMALE_COUNT UNKNOWN_GENDER_COUNT\n",
              "815          1720  17:20:00  ...            1                    1\n",
              "\n",
              "[1 rows x 17 columns]"
            ]
          },
          "metadata": {
            "tags": []
          },
          "execution_count": 18
        }
      ]
    },
    {
      "cell_type": "code",
      "metadata": {
        "colab": {
          "base_uri": "https://localhost:8080/"
        },
        "id": "m2a25hxwySMM",
        "outputId": "6371f83f-936d-4254-c215-eb504c0ec801"
      },
      "source": [
        "# The cause code of the accident, 'CAUSE CODE';\n",
        "# \n",
        "accidents['CAUSE CODE'].unique()"
      ],
      "execution_count": 19,
      "outputs": [
        {
          "output_type": "execute_result",
          "data": {
            "text/plain": [
              "array([ 7., 25., 98., 29., 10., 26., 63., 58., 57., 19.,  8., 16., 14.,\n",
              "       17., 20., 68., 60., 30., 22., 80., 44., 50., 78., 92., 61., 54.,\n",
              "       59., 28., 71., 39., 79., nan, 81.,  6., 38.,  4., 35., 52., 69.,\n",
              "       64., 66., 70., 42., 36., 15., 21., 86., 47., 11.,  1.,  9., 18.,\n",
              "       72., 76., 45., 23., 13., 37., 73., 67., 53., 62., 40., 97., 12.,\n",
              "       90., 51., 77., 87., 99., 89., 93., 82.])"
            ]
          },
          "metadata": {
            "tags": []
          },
          "execution_count": 19
        }
      ]
    },
    {
      "cell_type": "code",
      "metadata": {
        "colab": {
          "base_uri": "https://localhost:8080/",
          "height": 101
        },
        "id": "ui4CVSME01_9",
        "outputId": "508d92b4-d0bb-41ff-b906-e639d3380303"
      },
      "source": [
        "accidents[accidents['CAUSE CODE'] == 'nan']"
      ],
      "execution_count": 20,
      "outputs": [
        {
          "output_type": "execute_result",
          "data": {
            "text/html": [
              "<div>\n",
              "<style scoped>\n",
              "    .dataframe tbody tr th:only-of-type {\n",
              "        vertical-align: middle;\n",
              "    }\n",
              "\n",
              "    .dataframe tbody tr th {\n",
              "        vertical-align: top;\n",
              "    }\n",
              "\n",
              "    .dataframe thead th {\n",
              "        text-align: right;\n",
              "    }\n",
              "</style>\n",
              "<table border=\"1\" class=\"dataframe\">\n",
              "  <thead>\n",
              "    <tr style=\"text-align: right;\">\n",
              "      <th></th>\n",
              "      <th>TIME 24 HOURS</th>\n",
              "      <th>NEW_TIME</th>\n",
              "      <th>BASE/SUB BASE</th>\n",
              "      <th>COUNTY</th>\n",
              "      <th>ROAD</th>\n",
              "      <th>PLACE</th>\n",
              "      <th>BRIEF ACCIDENT DETAILS</th>\n",
              "      <th>GENDER</th>\n",
              "      <th>AGE</th>\n",
              "      <th>NEW_AGE</th>\n",
              "      <th>CAUSE CODE</th>\n",
              "      <th>VICTIM</th>\n",
              "      <th>NO.</th>\n",
              "      <th>Date DD/MM/YYYY</th>\n",
              "      <th>MALE_COUNT</th>\n",
              "      <th>FEMALE_COUNT</th>\n",
              "      <th>UNKNOWN_GENDER_COUNT</th>\n",
              "    </tr>\n",
              "  </thead>\n",
              "  <tbody>\n",
              "  </tbody>\n",
              "</table>\n",
              "</div>"
            ],
            "text/plain": [
              "Empty DataFrame\n",
              "Columns: [TIME 24 HOURS, NEW_TIME, BASE/SUB BASE, COUNTY, ROAD, PLACE, BRIEF ACCIDENT DETAILS, GENDER, AGE, NEW_AGE, CAUSE CODE, VICTIM, NO., Date DD/MM/YYYY, MALE_COUNT, FEMALE_COUNT, UNKNOWN_GENDER_COUNT]\n",
              "Index: []"
            ]
          },
          "metadata": {
            "tags": []
          },
          "execution_count": 20
        }
      ]
    },
    {
      "cell_type": "code",
      "metadata": {
        "colab": {
          "base_uri": "https://localhost:8080/"
        },
        "id": "Q5LBWXlLyNMQ",
        "outputId": "4886b9b4-6940-4d9c-b3f3-df9c2c7409d7"
      },
      "source": [
        "# The number of victims, 'NO.';\n",
        "# \n",
        "accidents['NO.'].unique()"
      ],
      "execution_count": 21,
      "outputs": [
        {
          "output_type": "execute_result",
          "data": {
            "text/plain": [
              "array([ 1,  3,  2,  8,  5,  4,  6,  9, 18, 17])"
            ]
          },
          "metadata": {
            "tags": []
          },
          "execution_count": 21
        }
      ]
    },
    {
      "cell_type": "code",
      "metadata": {
        "colab": {
          "base_uri": "https://localhost:8080/"
        },
        "id": "yRBDBzTlx55H",
        "outputId": "0efdb7a5-0387-4dc5-cb1b-116cca8ac333"
      },
      "source": [
        "# The road the accident occurred, 'ROAD';\n",
        "# \n",
        "accidents['ROAD'].unique()"
      ],
      "execution_count": 22,
      "outputs": [
        {
          "output_type": "execute_result",
          "data": {
            "text/plain": [
              "array(['KITUI-ITHOKWE', 'MOMBASA-NAIROBI', 'NAKURU-NAIROBI',\n",
              "       'MATUU-MWINGI', 'KATITO-KENDU BAY', 'MAKUTANO-MWEA',\n",
              "       'KENYATTA AVENUE', 'EASTERN BY PASS', 'NYERI-THIKA',\n",
              "       'LIKONI-LINGALUNGA', 'KENDU BAY-KASITI', 'MERU-MAUA',\n",
              "       'NAKURU NAIROBI', 'MIGORI KISII', 'KEROKA KISII',\n",
              "       'NJORO MAU NAROK', 'HAILE SELASIE ROAD', 'GITHUNGURI ROAD',\n",
              "       'MOMBASA NAIROBI', 'HAILE SELASIE', 'BONDO USENGE', 'RUIRU KIAMBU',\n",
              "       'KIMILILI CHWELE ROAD', 'NGONG NAIROBI', 'KILIFI MSA ROAD',\n",
              "       'THIKA SUPER HIGHWAY', 'MSAMBWENI UKUNDA', 'MERU MAUA',\n",
              "       'NAIROBI MOMBASA', 'ELDORET KITALE', 'LANDHIES', 'KAMOROCK',\n",
              "       'LUANDA KOTIENO NDORI', 'SOUTHERN BY PASS', 'KITENGELA ISINYA',\n",
              "       'NAIVASHA NAIROBI', 'MOMBASA', 'KILIFI-MALINDI', 'NAKURU-ELDORET',\n",
              "       'JOGOO', 'MSA VOI ROAD', 'KILIFI MOMBASA', 'KIJABE GICHIEGO ROAD',\n",
              "       'PARKLANDS MUTHAMA', 'KISII KILGORIS ROAD', 'KISII MIGORI',\n",
              "       'KISERIAN ISINYA', 'KITALE WEBUYE', 'ELDORET NAKURU',\n",
              "       'NAROK OLOPITO', 'NGONG ROAD', 'OLENARA IMPORO', 'WAIYAKI WAY',\n",
              "       'KERICHO NAKURU', 'MUMIAS KAKAMEGA', 'MATUNGU OKALLO MURRAM ROAD',\n",
              "       'EKERO EBUHANGA', 'KENDU BAY-KATITO', 'NYERI-NANYUKI',\n",
              "       'NAROK-MAIMAHIU', 'BURET NGOINA', 'MAINLAND-JOMVU',\n",
              "       'ELDORET -KAPSABET', 'ELEMENTAITA-GACHUMA', 'MWEA EMBU',\n",
              "       'KEROKA SOTIK', 'NAKURU GILGIL', 'NORTH AIRPORT',\n",
              "       'MAGADI KISERIAN', 'SIAYA-LUANDA', 'MARIAKANI-KALOLENI',\n",
              "       'KANGUNDO', 'NAKURU ELDORET', 'KAPLONG LITEIN', 'KANGUNDO NAIROBI',\n",
              "       'THIKA', 'KATITO KENDU', 'WEBUYE BUNGOMA', 'KITALE-ELDORET',\n",
              "       'KERICHO-KISUMU', 'LAARE-MATUATI', 'OTHAYA-NYERI', 'EMBU-MERU',\n",
              "       'THIKA-GATHIMA', 'NAROK-BOMET', 'KANGEMA KIRIAI', 'LANET NDUNDURI',\n",
              "       'EMBU MERU', 'THIKA SUPERHIGHWAY', 'UKUNDA LIKONI',\n",
              "       'NAROK MAIMAHIU', 'SAGANA MAKUTANO', 'LINKS ROAD',\n",
              "       'KIMUNYE KUTUS ROAD', 'BUSIA KISUMU ROAD', 'MACHAKOS KITUI RD',\n",
              "       'IKONGE MAGWAGWA ROAD', 'OLENGURUONE ROAD', \"MURANG'A SAGANA\",\n",
              "       'LUNGALUNGA VANGA', 'WOTE MAKINDU', 'KEHANCHA NTIMARU',\n",
              "       'ELDORET WEBUYE', 'KABATI TOWNSHIP', 'LUSAKA', 'KAKAMEGA KISUMU',\n",
              "       'KITENGELA-KAJIADO', 'MATUU-THIKA', 'GARISSA ROAD', 'LIKONI-FERRY',\n",
              "       'KUTUS-KERUGOYA', 'NAKURU-ELEMENTAITA', 'NGARATUK O-SIBILO',\n",
              "       'BIASHARA STREET', 'SIAYA NYANDORERA', 'NJORO-ELBURGON',\n",
              "       'EMBU-KIRITIRI', 'THIKA ROAD', 'CHAVAKALI KILINGILI',\n",
              "       'AWASI AHERO ROAD', 'KISII MARANI', 'WEBUYE KITALE ROAD',\n",
              "       'GATAKA DIVERSION', 'BUNGOMA WEBUYE ROAD', \"KENOL MURANG'A ROAD\",\n",
              "       'NAIROBI NAKURU', 'KAJIADO MURRAM ROAD', 'KITENGELA ISINYA ROAD',\n",
              "       'MOMBASA ROAD', 'HAILE SELASIE AVENUE', 'OUTERING ROAD',\n",
              "       'MWINGI GARISSA RD', 'BOMET NAROK', 'MWATATE VOI',\n",
              "       'KEROKA TOWNSHIP', 'KISUMU BUSIA', 'MALINDI MALANGA',\n",
              "       'GILGIL NAKURU', 'MURANGA', 'WAIYAKI', 'MAINLAND JOMVU',\n",
              "       'KILIFI VITENGENI', 'MUSYINI KYULU MURRAM ROAD',\n",
              "       'WITHIN MACHAKOS TOWN', 'KIJABE NAIVASHA', 'PROFESSIONAL ROAD',\n",
              "       'KISII KILGORIS', 'KIAMBERE BOLRIT', 'NORTH AIRPORT ROAD',\n",
              "       'THIKA GARISSA', 'NANYUKI NYERI', 'RODI KOPANY RANGWE',\n",
              "       'MATUNGU PANYA', 'KIANGOKOMA TRADING CENTRE', 'KABARNET MARIGAT',\n",
              "       'BOMET SOTIK', 'KISII KISUMU', 'NAIROBI KIKUYU',\n",
              "       'ELDAMA RAVINE SAOS', 'KAJIADO ISINYA', 'OYUGIS KISII',\n",
              "       'NAIROBI MAGADI', 'KAKAMEGA WEBUYE', 'NORTHERN BY PASS',\n",
              "       'CHEMILIL AWASI', 'OLKALAU GILGIL', 'ELDORET NYARU',\n",
              "       'MERU MIKINDURI', 'MWINGI GARISSA', 'NYANGUSU KEROKA',\n",
              "       'NYERI NYAHURURU', 'MURANGA KIRIANI', 'KAKAMEGA MUMIAS',\n",
              "       'JOGOO ROAD', 'CHAVAKALI KAPSABET', 'MALINDI MOMBASA',\n",
              "       'MAKADARA NAMAGA', 'JUJA ROAD', 'WITHIN DONHOLM SHOPPING CENTRE',\n",
              "       'EMBU MANYATTA', 'MAI MAHIU NAIVASHA', 'MUMIAS LUKOYE',\n",
              "       'NDHIWA SORI', 'SHIMANZI MOMBASA', 'MUNGOTIO RAVINE',\n",
              "       'NAIROBI NAIVASHA', 'LANDHIES ROAD', 'MWEA MAKUTANO',\n",
              "       'LOWER KABETE', 'MARIGAT LORUK', 'MAKUPA CUSE WAY',\n",
              "       'GARISSA MWINGI', 'NAIROBI MACHAKOS', 'JUJA', 'BONDO NDORI',\n",
              "       'KIAMBU', 'MUKURWENI KARATINA', 'LIMURU FOREST', 'RACE COURSE',\n",
              "       'MOLO ELBAGON', 'AWENDO MIGORI', 'KIKOKO NUNGUNI', 'MULOT NAROK',\n",
              "       'KITALE ELDORET', 'MTITO TOWNSHIP', 'ONYWONGO PAP ONDITI',\n",
              "       'KILIFI MALINDI', 'KANGEMA MURANGA', 'MAIMAHIU NAROK',\n",
              "       'USENGE BEACH ROAD', 'MAKUPA CAUSEWAY(KIPARANI)', 'AHERO KISUMU',\n",
              "       'MOMBASA KILIFI', 'KIGOTO MAGUNGA', 'NAIROBI THIKA',\n",
              "       'KOMAROCK ROAD', 'MAX ROAD', 'KENOL SAGANA', 'BUNGOMA MUMIAS',\n",
              "       'NAROK MULOT', 'OYUGIS KISUMU', 'ONDIRE KIKUYU', 'BUNGOMA WEBUYE',\n",
              "       'KITUI MACHAKOS', 'RACE COURSE ROAD', 'MAUA MERU', 'LITEIN SOTIK',\n",
              "       'MOMBASA MALINDI', 'KISUMU NAIROBI', 'AIRPORT', 'KINAMBA',\n",
              "       'NJAMBINI OLKALAO', 'KENYATTA', 'FOREST LIMURU', 'EATLEIGH',\n",
              "       'MOGOTIO NAKURU', 'KERICHO', 'BUNGOMA MALABA', 'KENDU BAY KATITU',\n",
              "       'GATURA THIKA', 'KANDIZI OLE KASAFI', 'RIURU LIMURU',\n",
              "       'ITEN KABARNET', 'NAIVASHA NAIROBI HIGHWAY', 'SIAYA LUANDA',\n",
              "       'KAPLONG BOMET', 'THIUKA SUPER HIGHWAY',\n",
              "       'ITEN KWA HILDA RESIDENCE', 'KANGUNDO ROAD', 'NYERI OTHAYA',\n",
              "       'THIKA NAIROBI', 'NDUMBERI KANNGA', 'HESHIMA', 'KATITU KENDU BAY',\n",
              "       'NYERI NANYUKI', 'NJABINI OLKALAU', 'KAJIADO NAMANGA',\n",
              "       'SPINE ROAD', 'NAIROBI-BUSIA', 'NAROK-MAU', 'KERICHO-NAKURU',\n",
              "       'BOKOLI-KIMILILI', 'PIPELINE ELEMENTAITA', 'MAGADI ROAD',\n",
              "       'LANET-NDUNDORI', 'LONDIANI-KERICHO', 'NAKURU-KERICHO',\n",
              "       'MOMBASA-VOI', 'MOMBASA-KILIFI', 'KISII-MARANI',\n",
              "       'MIHARATI-ENGINEER ROAD', 'KITALE-LODWAR', 'ELDORET-WEBUYE',\n",
              "       'ELUCHE-MUMIAS', 'KANYONYO-EMBU', 'ELDORET-NAKURU', 'EMBU-CHUKA',\n",
              "       'MERU - MAUA', 'NAIROBI-MOMBASA', 'MOMBASA-MALINDI',\n",
              "       'ALONG RUNNYENJES - UGWERI ROAD', 'NYERI-KAMAKWA',\n",
              "       'KERUGOYA-KUTUS', 'KITALE - ELDORET', 'BUNGOMA-WEBUYE',\n",
              "       'KIRIA-INI-KANGEMA', 'KITUI-KABATI', 'NAKURU-GILGIL',\n",
              "       'KITUI-KIBWEZI', 'WANGARI MATHAI', 'GARISSA-MWINGI',\n",
              "       'LUANDA MAJENGO', 'BOMET-LITEN', 'THIKA-MATUU', 'DAGORETI ROAD',\n",
              "       \"SOKO NG'OMBE BULA RIGI EARTH ROAD\", 'MBUNBUNI NDUMBI',\n",
              "       'MUTHUE MUTOMO', 'BARAKA ROAD', 'GILGIL NAIVASHA',\n",
              "       'NAIROBI MOMBASA ROAD', 'KERICHO LONDIANI', 'RAKWARO',\n",
              "       'WATAMU GEDE', 'MOYALE', 'SAGANA MURANGA',\n",
              "       'AKUBWOIT KWANGAMOR ROAD', 'WANGARI MATHAAI',\n",
              "       'OLD MOMBASA MALINDI', 'KATHEKAI', 'RABAI ROAD',\n",
              "       'OLJOROROK OLKALAU', 'LUSAKA ROAD', 'KISUMU KAKAMEGA',\n",
              "       'WITHIN JAMUHURI PRIMARY SCHOOL', 'WOTE MAKUENI',\n",
              "       'NANYUKI NAIROBI', 'NYAMIRA NYAMAIYA', 'SAGANA KAGIO',\n",
              "       'BISHOP ROAD JUNCTION', 'MARIGAT MOGOTIO', 'KANGUNDO MACHAKOS',\n",
              "       'SIAYA-DOMINION', 'KONDOLE-NYAMASARIA', 'MURANGA-KIRIANI',\n",
              "       'ELBURGON-NJORO', 'MAKINDU-KOSEWE', 'ELDORET-KAPSABET',\n",
              "       'KAPSABET-LESSOS', 'NAIROBI - MOMBASA', 'MUKARARA KIUNYU',\n",
              "       'MATISI NZOIA', 'ISINYA KITENGELA', 'THIKA MATUU',\n",
              "       'KAGUMO KERUGOYA', 'MURANGA KANGEMA', 'NYAURURU NAKURU',\n",
              "       'MAKUTANO KITALE ROAD', 'EMBU KIRITIRI', 'KIBOKO THIKA',\n",
              "       'AHERO AWASI', 'MBUGUNI CHECK POINT', 'GATHITHINI LUNATIC',\n",
              "       'KIAMBU-THIKA', 'LIMURU RUAKA', 'KIMILILI-MIIKHU',\n",
              "       'KITHIMANI KIMANGU', 'MURANGA GITU', 'KAUMA MATINYANI',\n",
              "       'KERUGOYA BARICHO', 'MURANGA SAGANA', 'KEROKA-MASIMBA',\n",
              "       'MAU SUMMIT -KERICHO', 'NAIROBI-NAIVASHA', 'MUTHURWA ACCESS ROAD',\n",
              "       'BUNGOMA-MUMIAS', 'KAYOLE', 'NYERI KARATINA', 'NYAMIRA IKONGE',\n",
              "       'MUMIAS EBUYANGU', 'MANDERA MALKA SUFTU', 'NAIVASHA GILGIL',\n",
              "       'SHIATSALA MANYULIA', 'NYERI NANUKI', 'KAPLETUNDO CHEBOLE',\n",
              "       'NGONG KISERIAN', 'KITISE KIKOME', 'SIGALAGALA-BUKURA',\n",
              "       'NEW PUMWANI ROAD', 'KENDU BAY-HOMA BAY', 'OUTERING',\n",
              "       'KARATINA-NYERI', 'MUTHURWA', 'MUMBINI WOTE', 'GARISSA IJARA',\n",
              "       'KERICHO NAKURU ROAD', 'UGWERI RUNYEJES ROAD', 'LIMURU NAIROBI',\n",
              "       'NYAHURURU-OLKALOU', 'UKUNDA LIKONI ROAD', 'NYERI NANYUKI ROAD',\n",
              "       'KISERIAN MAGADI', 'SOFIA ST BARANABUS CHURCH',\n",
              "       'THIKA SUPERHIGH WAY', 'AIRPORT ROAD', 'MERU NKUBU',\n",
              "       'NANYUKI BARAKA', 'LARI', nan, 'THOGOTO GIKAMBURA',\n",
              "       'NAIROBI THIKA SERVICE LANE', 'GIKAMBURA NDEIYA ROAD',\n",
              "       'FLYOVER NJAMBINI ROAD', 'MOLO TOWNSHIP', 'MAI MAHIU',\n",
              "       'NAKURU ELEMENTAITA', 'GATUNDU KENYATTA', 'BUTULA-MUMIAS',\n",
              "       'KIVAA-EMBU', 'KYUSINI-MUTHA', 'NAIVASHA-NAIROBI',\n",
              "       'UHURU HIGH WAY', 'BUSIA-MUMIAS', 'MARWA-KIGANJO', 'FIRST AVENUE',\n",
              "       'KISII-KISUMU', 'ISINYA-KITENGELA', 'MAAI-MAHIU NAIVASHA',\n",
              "       'KEROKA-NYANGUSU', 'KYENI KARURUMO', 'OLD MOIYNE DRIVE',\n",
              "       'MARSABIT MOYALE RD', 'NYAMIRA-MIRUKA RD', 'NYAHURURU BOIMAN RD',\n",
              "       'TOM MBOYA STREET', 'KITUNGATI-KATWALA RD', 'MOGOTHE KIRIMA',\n",
              "       'LUANDA-MAJENGO', 'NAKURU-RAVINE', 'MBITA-HOMABAY',\n",
              "       'NANDI HILL-KIMAKI', 'SOUTHERN BY-PASS', 'SILIBWET KIPTAGICH RD',\n",
              "       'MOSORIOT-KABIYET RDD', 'MUTHINGA GATITU RD', 'KOMBO MUNYIRI RD',\n",
              "       'KEROKA-SOTIK RD', 'EMALI MATILIKU MURRAM RD', 'NYERI-IHURURU',\n",
              "       'OYUGIS-KISUMU', 'TAGWA-NDATHI MURRAM ROAD', 'MALINDI-MOMBASA',\n",
              "       'TAVETA-MWATATE', 'MERU-NANYUKI', 'KAHAGAINI',\n",
              "       'KENDU BAY TOWN SHIP', 'KINYATTA ROAD', 'KENDU BAY KATITU ROAD',\n",
              "       'KUVASALI-IKOLI', 'SOTIK-KERICHO', 'KASIGU-MAUNGU',\n",
              "       'KIRIANE MUTINDWA ROAD', 'ILL OUT AREA', 'KERICHO-LONDAINI',\n",
              "       'CHOGORIA-MERU', 'KERICHO-LONDIANI', 'KERUGOYA-KARATINA',\n",
              "       'OGWEDHI-OYANI MASAI MURRAM RD', 'POTREITZ ROAD',\n",
              "       'KIKUYU-WANGIGE ROAD', 'KABIRIA ROAD', 'ITEN-KARBANET',\n",
              "       'NAROK-MAHIMAHIU', 'NGOIGWA-THIKA ROAD', 'NAKURU - ELDORET',\n",
              "       'ENTERPRISE ROAD', 'KISII-KILGORIS', 'MAUA-KIENGU',\n",
              "       'KAKAMEGA-KISUMU', 'MOGOMBO-KEMERA', 'NAURU-ELDORET',\n",
              "       'FIRST PARKLANDS AVENUE', 'NYAHURURU-MWEIGA', 'EMBU-KIBUKU',\n",
              "       'KISUMU-BUSIA', 'IRINDI-GATUGI', 'MAUA KIUTUNI',\n",
              "       'SIGALAGALA BUTERE', 'MAKUTANO SAGANA', 'AWASI KERICHO',\n",
              "       'OLKALAU NYAHURURU', 'KAMURUGU IRIAMURAI', 'BOMET KAPLONG',\n",
              "       'NYAMIRA KISII', 'BONDO AGIGO', 'NYERI TETU', 'MOMBASA -NAIROBIU',\n",
              "       'NAMANGA-NAIROBI', 'KIVAA-KIRITIRI', 'MWINGI-KYUSO',\n",
              "       'NAIVASHA ROAD', 'KITUI-MACHAKOS', 'ITEN ELDORET', 'GETA ROAD',\n",
              "       'ELDORET KAPSABET', 'KISII KEROKA', 'NYERI MATHARI',\n",
              "       'BUTULA MUMIAS', 'UHURU HIGHWAY', 'LIKONI UKUNDA', 'MATUU MWINGI',\n",
              "       'ELDORET BUNGOMA', 'GARISSA-KISMAIYO', 'SISOTE-DOROFU MURRAM ROAD',\n",
              "       'NAIROBI-NAKURU', 'MSAMBWENI-LUNGALUNGA', 'KITUI-KANYONYO',\n",
              "       'KAKAMEGA-WEBUYE', 'KIAMBU-RUIRU', 'MAKUTANO LODWAR',\n",
              "       'MUGANI MURIGURU', 'OTHAYA KARIMA', 'KATHENGE SIAKAGO',\n",
              "       'KIAMBU ROAD', 'NAROK MAI MAHIU', 'BISMAK MURRAM ROAD',\n",
              "       'KISUMU BONDO', 'LUNGALUNGA ROAD', 'OTHAYA NYERI',\n",
              "       'KAVIANI SAIKONI', 'MARIGAT KABARNET', 'MERU EMBU',\n",
              "       'NAIRBI MOMBASA', 'BOMET-NAROK', 'KOMBANI- KWALE',\n",
              "       'MASALANI GARISSA', 'NYAHURURU DESTINATION', 'KHAYEGA-SHINYALU',\n",
              "       'RAMISI-MSAMBWENI', 'MACHAKOS-KYUMBI', 'BANANA-KIAMBU',\n",
              "       'CHUKA-EMBU', 'BUNGOMA-MALABA', 'KISUMU-KAKAMEGA',\n",
              "       'SOUTHERN BY -PASS', 'HOMA BAY-MBITA', 'OUTERNG ROAD',\n",
              "       'EASTERN BYPASS', 'BUSIA-MIMIAS', 'NAKURU-SUBUKIA', 'SOUTHERN',\n",
              "       'KEROKA NYAGUSU', 'ISIOLO ARCHERS POST', 'LWANDETI LUGARI',\n",
              "       'MURANGA ROAD', 'MAGADI', 'CHINGA GAKURU', 'MURANGA KAHURO',\n",
              "       'LORETO ZIWA MACHINE MURRAM ROAD', 'SAGANA KENOL ROAD',\n",
              "       'MULTIPLE HAULIERS ROAD', 'KISMAIYO ROAD', 'IKONGE CORNER',\n",
              "       'CHOGORIA CHUKA', 'SHILONGO FUVARE MURRAM ROAD', 'KEROKA MASIMBA',\n",
              "       'KHAYEGA SHINYALU', 'MERU NANYUKI', 'NAIROBI MSA ROAD',\n",
              "       'SAGANA-MAKUTANO-KENOL RD', 'KISUMU BUSIA RD', 'MACHAKOS -WOTE RD',\n",
              "       'LIMURU KIAMBU ROAD', 'MATHIORA ROAD', 'NYAMIRA KISII ROAD',\n",
              "       'MATUU THIKA ROAD', 'KYENI KARURUMO MARRUM ROAD', 'KANYONYO EMBU',\n",
              "       'OBUNGA KONDELE', 'LIMURU KWABIRA', 'VOI KALOLENI',\n",
              "       'KENEGUT KAPSOIT', 'NAIROBI KISERIAN', 'NAIROBI- MOMBASA',\n",
              "       'MARIGAT- MOGOTIO', 'ELDORET - KITALE', 'KARARTINA- KIMABARA',\n",
              "       'KISUMU- KAKAMEGA', 'MOMBASA- KILIFI', 'BANANA- RUAKA',\n",
              "       'NAMANGA- KITENGELA', 'KISUMU- NAIROBI', 'KERICHO- KISUMU',\n",
              "       'MOYALE- HEILLU', 'KENDU BAY/ HOMA BAY RD', 'KISUMU- BUSIA',\n",
              "       'SAB ATIA EKERO RD', 'KINAMBA- NYAHURURU', 'MERU- MAUA',\n",
              "       'NAMANGA- KAJIADO', 'NORTHERN BY- PASS', 'OL KALOU- KARIAMU',\n",
              "       'MAI MAHIU- NAIVASHA', 'ELDORET- WEBUYE', 'LARE- MAUA',\n",
              "       'MARSABIT- KARGI', 'KEROKA-KISII', 'MACHAKOS-HUDUMA CENTRE',\n",
              "       'KITALE-WEBUYE', 'KISII-MARAMI', 'BOMET- KAPLONG RD',\n",
              "       'EMBU- SIAKAGO', 'WEBUYE- ELDORET', 'WEBUYE- KAKAMEGA',\n",
              "       'KIVANINI- MASINGA', 'KANDARA- KITHIMA', 'KAWANJARA- ISHIARA',\n",
              "       'KIKUYU-WANGIGE', 'MOYALE TOWN', 'WAIYIAKI WAY',\n",
              "       'ITURAMIRO-KIBIRU MURRAM ROAD', 'NAIROBI -MOMBASA',\n",
              "       'GILGIL - NAKURU', 'MERU-CHUKA', 'CHAKA-KIGANJO',\n",
              "       'KAPTEMBWA-KAPKURES', 'MOMBASA- NAIROBI', 'KISERIAN - RONGAI',\n",
              "       'MALINDI-LAMU', 'EMBU-KIBUGU', 'KENOL-MAKUYU', 'OTHAYA-RURUGUTI',\n",
              "       'MACHARIA ROAD', 'KIRINYAGA-KUTUS', 'LIMURU-KUTUS',\n",
              "       'KENOL-MURANGA', 'SIAYA-NYANDORERA', 'KAPSABET -CHAVAKALI',\n",
              "       'NYERI-GATHUTHI', 'METO-MAILI TISA MURRAM ROAD',\n",
              "       'NAIVASHA -NAIROBI', 'KUNDA KINDU MAIN STAGE',\n",
              "       'TALAI KAPTUM MURRAM ROAD', 'KALINDU NGIINI MUTUNE ROAD',\n",
              "       'JOSKA KAGUNDO', 'ISIOLO MARSABIT', 'NAIROBI LIMURU',\n",
              "       'NAMBALE- MALANGA', 'KAWANGWARE', 'NAKURU- ELDORET',\n",
              "       'NYAHURURU NYERI', 'RODI NDHIWA', 'MOMBASA RD', 'EMBU- KIVAA',\n",
              "       'NAKURU- NAIROBI', 'NAROK- BOMET', 'PLATEAU GIRLS HIGH SCHOOL',\n",
              "       'THIKA - KENOL', 'KIAMBU WEST', 'KERICHO LETAIN', 'LADHIS',\n",
              "       'CHORA', 'BUSIA-MAYONI', 'KABIYET KURGONG-KIPKAREN SALIA RD',\n",
              "       'SAGANA-KARATINA', 'EKERO-SABATIA', 'WITHIN UASIN GISHU',\n",
              "       'LIMURU-KAMANDURA', 'SOTIK-NAROK', 'MAKENJI-MURUKA',\n",
              "       'KAPSABET-CHAVAKALI', 'PROF.WANGARI MATHAI', 'NYERI - THIKA',\n",
              "       'OLKALOU-KARIAMU', 'SAGANA-MAKUTANO', 'AWENDO - RONGO',\n",
              "       'NYERI-KARATINA', 'NORTHERN BY PASS ROAD',\n",
              "       'OLKALOU-NYAHURURU ROAD', 'MUHORONI-LONDIANI', 'MSA-NRB',\n",
              "       'KANGUNDO RD', 'KILIFI-MOMBASA', 'KALOLENI- MAZERAS RD',\n",
              "       'MATANYA ROAD', 'KIMILILI-CHWELE ROAD', 'MATUU-THIKA ROAD',\n",
              "       'NAIROBI-TALA ROAD', 'MURANGA RD', 'BONDO-KISUMU',\n",
              "       'KINDU-BAY KATITU', 'KATITO KEMDUBAY', 'GATUNDU RD',\n",
              "       'KILIIFI-DIANI', 'KIAMBU KWAMAIKO', 'NYABOHANSE KOMOMWAMU',\n",
              "       'KENOL MAKUTANO', 'NORTHEN BY PASS', 'MATUU THIKA', 'SESSI',\n",
              "       'MUMO MUTINI', 'AIRWINGS KODHEK ROAD', 'BOMET -NAROK',\n",
              "       'RONGO- AWENDO', 'BANANA RUAKA', 'KAPOROK SEGEREK',\n",
              "       'TAWA KALAWANI', 'MIGORI AWENDO', 'NDUNYU MUNYANGE',\n",
              "       'KISUMU TOWNSHIP', 'MWANGULU MWELENI ROAD', 'WEBUYE ELDORET',\n",
              "       \"MURANG'A ROAD\", 'NYAMIRA MIRUKA ROAD', 'OMIRIGAMI-SENGERA RD',\n",
              "       'KISUMU-NAIROBI', 'MITUNGUU-NKUBU', 'LIKONI ROAD',\n",
              "       'KIKUYU-DAGORETTI', 'HOMABAY-KENDU BAY', 'ELBURGON NJORO',\n",
              "       'ISINYA-KAJIADO', 'NAIVASHA KINANGOP', 'UKUNDA BEACH ROAD',\n",
              "       'KISII NYAMIRA', 'TIRIMIONINI KASISIT MURRAM ROAD',\n",
              "       'GAKONYA MUKURU WEINI', 'KITALE KILONGOLO', 'DEVKI MAKADARA',\n",
              "       'THIKA GATANGA', 'EMINING-OTERIT RD', 'NTIMARU-KEHANCHA',\n",
              "       'KENOL-MAKUTANO', 'THIKA RD', 'NAIROBI-KANGUNDO'], dtype=object)"
            ]
          },
          "metadata": {
            "tags": []
          },
          "execution_count": 22
        }
      ]
    },
    {
      "cell_type": "code",
      "metadata": {
        "colab": {
          "base_uri": "https://localhost:8080/",
          "height": 101
        },
        "id": "vc2valfOAzEf",
        "outputId": "ea7585b0-0d9b-4e1d-b9a7-84ca69cb9dac"
      },
      "source": [
        "accidents[accidents['ROAD'] == 'nan']"
      ],
      "execution_count": 23,
      "outputs": [
        {
          "output_type": "execute_result",
          "data": {
            "text/html": [
              "<div>\n",
              "<style scoped>\n",
              "    .dataframe tbody tr th:only-of-type {\n",
              "        vertical-align: middle;\n",
              "    }\n",
              "\n",
              "    .dataframe tbody tr th {\n",
              "        vertical-align: top;\n",
              "    }\n",
              "\n",
              "    .dataframe thead th {\n",
              "        text-align: right;\n",
              "    }\n",
              "</style>\n",
              "<table border=\"1\" class=\"dataframe\">\n",
              "  <thead>\n",
              "    <tr style=\"text-align: right;\">\n",
              "      <th></th>\n",
              "      <th>TIME 24 HOURS</th>\n",
              "      <th>NEW_TIME</th>\n",
              "      <th>BASE/SUB BASE</th>\n",
              "      <th>COUNTY</th>\n",
              "      <th>ROAD</th>\n",
              "      <th>PLACE</th>\n",
              "      <th>BRIEF ACCIDENT DETAILS</th>\n",
              "      <th>GENDER</th>\n",
              "      <th>AGE</th>\n",
              "      <th>NEW_AGE</th>\n",
              "      <th>CAUSE CODE</th>\n",
              "      <th>VICTIM</th>\n",
              "      <th>NO.</th>\n",
              "      <th>Date DD/MM/YYYY</th>\n",
              "      <th>MALE_COUNT</th>\n",
              "      <th>FEMALE_COUNT</th>\n",
              "      <th>UNKNOWN_GENDER_COUNT</th>\n",
              "    </tr>\n",
              "  </thead>\n",
              "  <tbody>\n",
              "  </tbody>\n",
              "</table>\n",
              "</div>"
            ],
            "text/plain": [
              "Empty DataFrame\n",
              "Columns: [TIME 24 HOURS, NEW_TIME, BASE/SUB BASE, COUNTY, ROAD, PLACE, BRIEF ACCIDENT DETAILS, GENDER, AGE, NEW_AGE, CAUSE CODE, VICTIM, NO., Date DD/MM/YYYY, MALE_COUNT, FEMALE_COUNT, UNKNOWN_GENDER_COUNT]\n",
              "Index: []"
            ]
          },
          "metadata": {
            "tags": []
          },
          "execution_count": 23
        }
      ]
    },
    {
      "cell_type": "code",
      "metadata": {
        "colab": {
          "base_uri": "https://localhost:8080/"
        },
        "id": "d0kgJLYKynq2",
        "outputId": "472ba773-9cdd-4ff1-8f42-c4886e983537"
      },
      "source": [
        "# The date the accident occurred, 'Date DD/MM/YYYY';\n",
        "# \n",
        "accidents['Date DD/MM/YYYY'].unique()"
      ],
      "execution_count": 24,
      "outputs": [
        {
          "output_type": "execute_result",
          "data": {
            "text/plain": [
              "array(['25/06/2016', '24/06/2016', '23/06/2016', '22/06/2016',\n",
              "       '21/06/2016', '20/06/2016', '19/06/2016', '18/06/2016',\n",
              "       '17/06/2016', '16/06/2016', '15/06/2016', '14/06/2016',\n",
              "       '13/06/2016', '12/06/2016', '11/06/2016', '10/06/2016',\n",
              "       '09/06/2016', '08/06/2016', '07/06/2016', '06/06/2016',\n",
              "       '05/06/2016', '04/06/2016', '02/06/2016', '01/06/2016',\n",
              "       '30/04/2016', '29/04/2016', '26/04/2016', '24/04/2016',\n",
              "       '23/04/2016', '22/04/2016', '21/04/2016', '20/04/2016',\n",
              "       '19/04/2016', '18/04/2016', '17/04/2016', '16/04/2016',\n",
              "       '15/04/2016', '14/04/2016', '13/04/2016', '12/04/2016',\n",
              "       '11/04/2016', '10/04/2016', '09/04/2016', '08/04/2016',\n",
              "       '07/04/2016', '06/04/2016', '05/04/2016', '04/04/2016',\n",
              "       '03/04/2016', '02/04/2016', '01/04/2016', '06/11/2017',\n",
              "       '07/11/2017', '08/11/2017', '09/11/2017', '10/11/2017',\n",
              "       '11/11/2017', '12/11/2017', '13/11/2017', '14/11/2017',\n",
              "       '15/11/2017', '16/11/2017', '17/11/2017', '18/11/2017',\n",
              "       '19/11/2017', '20/11/2017', '21/11/2017', '22/11/2017',\n",
              "       '23/11/2017', '24/11/2017', '25/11/2017', '26/11/2017',\n",
              "       '27/11/2017', '28/11/2017', '29/11/2017', '30/11/2017',\n",
              "       '01/12/2017', '02/12/2017', '03/12/2017', '04/12/2017',\n",
              "       '05/12/2017', '06/12/2017', '07/12/2017', '08/12/2017',\n",
              "       '09/12/2017', '10/12/2017', '11/12/2017', '12/12/2017',\n",
              "       '13/12/2017', '14/12/2017', '15/12/2017', '16/12/2017',\n",
              "       '17/12/2017', '18/12/2017', '19/12/2017', '20/12/2017',\n",
              "       '21/12/2017', '22/12/2017', '23/12/2017', '24/12/2017',\n",
              "       '25/12/2017', '26/12/2017', '27/12/2017', '28/12/2017',\n",
              "       '29/12/2017', '30/12/2017', '31/12/2017', '01/01/2018',\n",
              "       '02/01/2018', '03/01/2018', '04/01/2018', '05/01/2018',\n",
              "       '06/01/2018', '07/01/2018', '08/01/2018', '09/01/2018',\n",
              "       '10/01/2018', '11/01/2018', '12/01/2018', '13/01/2018',\n",
              "       '14/01/2018', '15/01/2018', '16/01/2018', '17/01/2018',\n",
              "       '18/01/2018', '19/01/2018', '20/01/2018', '21/01/2018',\n",
              "       '22/01/2018', '23/01/2018', '24/01/2018', '25/01/2018',\n",
              "       '26/01/2018', '27/01/2018', '28/01/2018', '29/01/2018',\n",
              "       '30/01/2018', '31/01/2018', '01/02/2018', '02/02/2018',\n",
              "       '03/02/2018', '04/02/2018', '05/02/2018', '06/02/2018',\n",
              "       '07/02/2018', '08/02/2018', '09/02/2018', '10/02/2018',\n",
              "       '11/02/2018', '12/02/2018', '13/02/2018', '14/02/2018',\n",
              "       '15/02/2018', '16/02/2018', '17/02/2018', '18/02/2018',\n",
              "       '19/02/2018', '20/02/2018', '21/02/2018', '22/02/2018',\n",
              "       '23/02/2018', '24/02/2018', '25/02/2018', '26/02/2018',\n",
              "       '27/02/2018', '28/02/2018', '01/03/2018', '02/03/2018',\n",
              "       '03/03/2018', '04/03/2018', '05/03/2018', '06/03/2018',\n",
              "       '07/03/2018', '08/03/2018', '09/03/2018', '10/03/2018',\n",
              "       '11/03/2018', '12/03/2018', '13/03/2018', '14/03/2018',\n",
              "       '15/03/2018', '16/03/2018', '17/03/2018', '18/03/2018',\n",
              "       '19/03/2018', '20/03/2018', '21/03/2018', '22/03/2018',\n",
              "       '23/03/2018', '24/03/2018', '25/03/2018', '26/03/2018',\n",
              "       '27/03/2018', '28/03/2018', '29/03/2018', '30/03/2018',\n",
              "       '31/03/2018', '01/04/2018', '02/04/2018', '03/04/2018',\n",
              "       '04/04/2018', '05/04/2018', '06/04/2018', '07/04/2018',\n",
              "       '08/04/2018', '09/04/2018', '10/04/2018', '11/04/2018',\n",
              "       '12/04/2018', '13/04/2018', '14/04/2018', '15/04/2018',\n",
              "       '16/04/2018', '17/04/2018', '18/04/2018', '19/04/2018',\n",
              "       '20/04/2018', '21/04/2018', '22/04/2018', '23/04/2018',\n",
              "       '24/04/2018', '25/04/2018', '26/04/2018', '27/04/2018',\n",
              "       '28/04/2018', '29/04/2018', '30/04/2018', '01/05/2018',\n",
              "       '02/05/2018', '03/05/2018', '04/05/2018', '05/05/2018',\n",
              "       '06/05/2018', '07/05/2018', '08/05/2018', '09/05/2018',\n",
              "       '10/05/2018', '11/05/2018', '12/05/2018', '13/05/2018',\n",
              "       '14/05/2018', '15/05/2018', '16/05/2018', '17/05/2018',\n",
              "       '18/05/2018', '19/05/2018', '20/05/2018', '21/05/2018',\n",
              "       '22/05/2018', '23/05/2018', '24/05/2018', '25/05/2018',\n",
              "       '26/05/2018', '27/05/2018', '28/05/2018', '29/05/2018',\n",
              "       '30/05/2018', '31/05/2018', '01/06/2018', '02/06/2018',\n",
              "       '03/06/2018', '04/06/2018', '05/06/2018', '06/06/2018',\n",
              "       '07/06/2018', '08/06/2018', '09/06/2018', '10/06/2018',\n",
              "       '11/06/2018', '12/06/2018', '13/06/2018', '14/06/2018',\n",
              "       '15/06/2018', '16/06/2018', '17/06/2018', '18/06/2018',\n",
              "       '19/06/2018', '20/06/2018', '21/06/2018', '22/06/2018',\n",
              "       '23/06/2018', '24/06/2018', '25/06/2018', '26/06/2018',\n",
              "       '27/06/2018', '28/06/2018', '29/06/2018', '30/06/2018',\n",
              "       '01/07/2018', '02/07/2018', '03/07/2018', '04/07/2018',\n",
              "       '05/07/2018', '06/07/2018', '07/07/2018', '08/07/2018',\n",
              "       '09/07/2018', '10/07/2018', '11/07/2018', '12/07/2018',\n",
              "       '13/07/2018', '14/07/2018', '15/07/2018', '16/07/2018',\n",
              "       '17/07/2018', '18/07/2018', '19/07/2018', '20/07/2018',\n",
              "       '21/07/2018', '22/07/2018', '23/07/2018', '24/07/2018',\n",
              "       '25/07/2018', '26/07/2018', '27/07/2018', '28/07/2018',\n",
              "       '29/07/2018', '30/07/2018', '31/07/2018', '01/08/2018',\n",
              "       '02/08/2018', '03/08/2018', '04/08/2018', '05/08/2018',\n",
              "       '06/08/2018', '07/08/2018', '08/08/2018', '09/08/2018',\n",
              "       '10/08/2018', '11/08/2018', '12/08/2018', '13/08/2018',\n",
              "       '14/08/2018', '15/08/2018', '16/08/2018', '17/08/2018',\n",
              "       '18/08/2018', '19/08/2018', '20/08/2018', '21/08/2018',\n",
              "       '22/08/2018', '23/08/2018', '24/08/2018', '25/08/2018',\n",
              "       '26/08/2018', '27/08/2018', '28/08/2018', '29/08/2018',\n",
              "       '30/08/2018', '31/08/2018', '01/09/2018', '02/09/2018',\n",
              "       '03/09/2018', '04/09/2018', '05/09/2018', '06/09/2018',\n",
              "       '07/09/2018', '08/09/2018', '09/09/2018', '10/09/2018',\n",
              "       '11/09/2018', '12/09/2018', '13/09/2018', '14/09/2018',\n",
              "       '15/09/2018', '16/09/2018', '17/09/2018', '18/09/2018',\n",
              "       '19/09/2018', '20/09/2018', '21/09/2018', '22/09/2018',\n",
              "       '23/09/2018', '24/09/2018', '25/09/2018', '26/09/2018',\n",
              "       '27/09/2018', '28/09/2018', '29/09/2018', '30/09/2018',\n",
              "       '01/10/2018', '02/10/2018', '03/10/2018', '04/10/2018',\n",
              "       '05/10/2018', '06/10/2018', '07/10/2018', '08/10/2018',\n",
              "       '09/10/2018', '10/10/2018', '11/10/2018', '12/10/2018',\n",
              "       '13/10/2018', '14/10/2018', '15/10/2018', '16/10/2018',\n",
              "       '17/10/2018', '18/10/2018', '19/10/2018', '20/10/2018',\n",
              "       '21/10/2018', '22/10/2018', '23/10/2018', '24/10/2018',\n",
              "       '25/10/2018', '26/10/2018', '27/10/2018', '28/10/2018',\n",
              "       '29/10/2018', '30/10/2018', '31/10/2018', '01/11/2018',\n",
              "       '02/11/2018', '03/11/2018', '04/11/2018', '05/11/2018',\n",
              "       '06/11/2018', '07/11/2018', '08/11/2018', '09/11/2018',\n",
              "       '10/11/2018', '11/11/2018', '12/11/2018', '13/11/2018',\n",
              "       '14/11/2018', '15/11/2018', '16/11/2018', '17/11/2018',\n",
              "       '18/11/2018', '19/11/2018', '20/11/2018', '21/11/2018',\n",
              "       '22/11/2018', '23/11/2018', '24/11/2018', '25/11/2018',\n",
              "       '26/11/2018', '27/11/2018', '28/11/2018', '29/11/2018',\n",
              "       '30/11/2018', '01/12/2018', '02/12/2018', '03/12/2018',\n",
              "       '04/12/2018', '05/12/2018', '06/12/2018', '07/12/2018',\n",
              "       '08/12/2018', '09/12/2018', '10/12/2018', '11/12/2018',\n",
              "       '12/12/2018', '13/12/2018', '14/12/2018', '15/12/2018',\n",
              "       '16/12/2018', '17/12/2018', '18/12/2018', '19/12/2018',\n",
              "       '20/12/2018', '21/12/2018', '22/12/2018', '23/12/2018',\n",
              "       '24/12/2018', '25/12/2018', '26/12/2018', '27/12/2018',\n",
              "       '28/12/2018', '29/12/2018', '30/12/2018', '31/12/2018',\n",
              "       '01/01/2019', '02/01/2019', '03/01/2019', '04/01/2019',\n",
              "       '05/01/2019', '06/01/2019', '07/01/2019', '08/01/2019',\n",
              "       '09/01/2019', '10/01/2019', '11/01/2019', '12/01/2019',\n",
              "       '13/01/2019', '14/01/2019', '15/01/2019', '16/01/2019',\n",
              "       '17/01/2019', '18/01/2019', '19/01/2019', '20/01/2019',\n",
              "       '21/01/2019', '22/01/2019', '23/01/2019', '24/01/2019',\n",
              "       '25/01/2019', '26/01/2019', '27/01/2019', '28/01/2019',\n",
              "       '29/01/2019', '30/01/2019', '31/01/2019', '01/02/2019',\n",
              "       '02/02/2019', '03/02/2019', '04/02/2019', '05/02/2019',\n",
              "       '06/02/2019', '07/02/2019', '08/02/2019', '09/02/2019',\n",
              "       '10/02/2019', '11/02/2019', '12/02/2019', '13/02/2019',\n",
              "       '14/02/2019', '15/02/2019', '16/02/2019', '17/02/2019',\n",
              "       '18/02/2019', '19/02/2019', '20/02/2019', '21/02/2019',\n",
              "       '22/02/2019', '23/02/2019', '24/02/2019', '25/02/2019',\n",
              "       '26/02/2019', '27/02/2019', '28/02/2019', '01/03/2019',\n",
              "       '02/03/2019', '03/03/2019', '04/03/2019', '05/03/2019',\n",
              "       '06/03/2019', '07/03/2019', '08/03/2019', '09/03/2019',\n",
              "       '10/03/2019', '11/03/2019', '12/03/2019', '13/03/2019',\n",
              "       '14/03/2019', '15/03/2019', '16/03/2019', '17/03/2019',\n",
              "       '18/03/2019', '19/03/2019', '20/03/2019', '21/03/2019',\n",
              "       '22/03/2019', '23/03/2019', '24/03/2019', '25/03/2019',\n",
              "       '26/03/2019', '27/03/2019', '28/03/2019', '29/03/2019',\n",
              "       '30/03/2019', '31/03/2019', '01/04/2019', '02/04/2019',\n",
              "       '03/04/2019', '04/04/2019', '05/04/2019', '06/04/2019',\n",
              "       '07/04/2019', '08/04/2019', '09/04/2019', '10/04/2019',\n",
              "       '11/04/2019', '12/04/2019', '13/04/2019', '14/04/2019',\n",
              "       '15/04/2019', '16/04/2019', '17/04/2019', '18/04/2019',\n",
              "       '19/04/2019', '20/04/2019', '21/04/2019', '22/04/2019',\n",
              "       '23/04/2019', '24/04/2019', '25/04/2019', '26/04/2019',\n",
              "       '27/04/2019', '28/04/2019', '29/04/2019', '30/04/2019',\n",
              "       '01/05/2019', '02/05/2019', '03/05/2019', '04/05/2019',\n",
              "       '05/05/2019', '06/05/2019', '07/05/2019', '08/05/2019',\n",
              "       '09/05/2019', '10/05/2019', '11/05/2019', '12/05/2019',\n",
              "       '13/05/2019', '14/05/2019', '15/05/2019', '16/05/2019',\n",
              "       '17/05/2019', '18/05/2019', '19/05/2019', '20/05/2019',\n",
              "       '21/05/2019', '22/05/2019', '23/05/2019', '24/05/2019',\n",
              "       '25/05/2019', '26/05/2019', '27/05/2019', '28/05/2019',\n",
              "       '29/05/2019', '30/05/2019', '31/05/2019', '01/06/2019',\n",
              "       '02/06/2019', '03/06/2019', '04/06/2019', '05/06/2019',\n",
              "       '06/06/2019', '07/06/2019', '08/06/2019', '09/06/2019',\n",
              "       '10/06/2019', '11/06/2019', '12/06/2019', '13/06/2019',\n",
              "       '14/06/2019', '15/06/2019', '16/06/2019', '17/06/2019',\n",
              "       '18/06/2019', '19/06/2019', '20/06/2019', '21/06/2019',\n",
              "       '22/06/2019', '23/06/2019', '24/06/2019', '25/06/2019',\n",
              "       '26/06/2019', '27/06/2019', '28/06/2019', '29/06/2019',\n",
              "       '30/06/2019', '01/07/2019', '02/07/2019', '03/07/2019',\n",
              "       '04/07/2019', '05/07/2019', '06/07/2019', '07/07/2019',\n",
              "       '08/07/2019', '09/07/2019', '10/07/2019', '11/07/2019',\n",
              "       '12/07/2019', '13/07/2019', '14/07/2019', '15/07/2019',\n",
              "       '16/07/2019', '17/07/2019', '18/07/2019', '19/07/2019',\n",
              "       '20/07/2019', '21/07/2019', '22/07/2019', '23/07/2019',\n",
              "       '24/07/2019', '25/07/2019', '26/07/2019', '27/07/2019',\n",
              "       '28/07/2019', '29/07/2019', '30/07/2019', '31/07/2019',\n",
              "       '01/08/2019', '02/08/2019', '03/08/2019', '04/08/2019',\n",
              "       '05/08/2019', '06/08/2019', '07/08/2019', '08/08/2019',\n",
              "       '09/08/2019', '10/08/2019', '11/08/2019', '12/08/2019',\n",
              "       '13/08/2019', '14/08/2019', '15/08/2019', '16/08/2019',\n",
              "       '17/08/2019', '18/08/2019', '19/08/2019', '20/08/2019',\n",
              "       '21/08/2019', '22/08/2019', '23/08/2019', '24/08/2019',\n",
              "       '25/08/2019', '26/08/2019', '27/08/2019', '28/08/2019',\n",
              "       '29/08/2019', '30/08/2019', '31/08/2019', '01/09/2019',\n",
              "       '02/09/2019', '03/09/2019', '04/09/2019', '05/09/2019',\n",
              "       '06/09/2019', '07/09/2019', '08/09/2019', '09/09/2019',\n",
              "       '10/09/2019', '11/09/2019', '12/09/2019', '13/09/2019',\n",
              "       '14/09/2019', '15/09/2019', '16/09/2019', '17/09/2019',\n",
              "       '18/09/2019', '19/09/2019', '20/09/2019', '21/09/2019',\n",
              "       '22/09/2019', '23/09/2019', '24/09/2019', '25/09/2019',\n",
              "       '26/09/2019', '27/09/2019', '28/09/2019', '29/09/2019',\n",
              "       '30/09/2019', '01/10/2019', '02/10/2019', '03/10/2019',\n",
              "       '04/10/2019', '05/10/2019', '06/10/2019', '07/10/2019',\n",
              "       '08/10/2019', '09/10/2019', '10/10/2019', '11/10/2019',\n",
              "       '12/10/2019', '13/10/2019', '14/10/2019', '15/10/2019',\n",
              "       '16/10/2019', '17/10/2019', '18/10/2019', '19/10/2019',\n",
              "       '20/10/2019', '21/10/2019', '22/10/2019', '23/10/2019',\n",
              "       '24/10/2019', '25/10/2019', '26/10/2019', '27/10/2019',\n",
              "       '28/10/2019', '29/10/2019', '30/10/2019', '31/10/2019',\n",
              "       '01/11/2019', '02/11/2019', '03/11/2019', '04/11/2019',\n",
              "       '05/11/2019', '06/11/2019', '07/11/2019', '08/11/2019',\n",
              "       '09/11/2019', '10/11/2019', '11/11/2019', '12/11/2019',\n",
              "       '13/11/2019', '14/11/2019', '15/11/2019'], dtype=object)"
            ]
          },
          "metadata": {
            "tags": []
          },
          "execution_count": 24
        }
      ]
    },
    {
      "cell_type": "code",
      "metadata": {
        "colab": {
          "base_uri": "https://localhost:8080/",
          "height": 147
        },
        "id": "exlmlBg6_5gR",
        "outputId": "43af3d27-ef68-45b3-8bde-d0a62da0f51f"
      },
      "source": [
        "# Renaming the column 'Date DD/MM/YYYY' to 'DATE';\n",
        "# \n",
        "accidents.rename(columns={\"Date DD/MM/YYYY\": \"DATE\"}, inplace = True)\n",
        "accidents.head(1)"
      ],
      "execution_count": 25,
      "outputs": [
        {
          "output_type": "execute_result",
          "data": {
            "text/html": [
              "<div>\n",
              "<style scoped>\n",
              "    .dataframe tbody tr th:only-of-type {\n",
              "        vertical-align: middle;\n",
              "    }\n",
              "\n",
              "    .dataframe tbody tr th {\n",
              "        vertical-align: top;\n",
              "    }\n",
              "\n",
              "    .dataframe thead th {\n",
              "        text-align: right;\n",
              "    }\n",
              "</style>\n",
              "<table border=\"1\" class=\"dataframe\">\n",
              "  <thead>\n",
              "    <tr style=\"text-align: right;\">\n",
              "      <th></th>\n",
              "      <th>TIME 24 HOURS</th>\n",
              "      <th>NEW_TIME</th>\n",
              "      <th>BASE/SUB BASE</th>\n",
              "      <th>COUNTY</th>\n",
              "      <th>ROAD</th>\n",
              "      <th>PLACE</th>\n",
              "      <th>BRIEF ACCIDENT DETAILS</th>\n",
              "      <th>GENDER</th>\n",
              "      <th>AGE</th>\n",
              "      <th>NEW_AGE</th>\n",
              "      <th>CAUSE CODE</th>\n",
              "      <th>VICTIM</th>\n",
              "      <th>NO.</th>\n",
              "      <th>DATE</th>\n",
              "      <th>MALE_COUNT</th>\n",
              "      <th>FEMALE_COUNT</th>\n",
              "      <th>UNKNOWN_GENDER_COUNT</th>\n",
              "    </tr>\n",
              "  </thead>\n",
              "  <tbody>\n",
              "    <tr>\n",
              "      <th>0</th>\n",
              "      <td>630</td>\n",
              "      <td>6:30:00</td>\n",
              "      <td>KITUI</td>\n",
              "      <td>MAKUENI</td>\n",
              "      <td>KITUI-ITHOKWE</td>\n",
              "      <td>KITUI SCHOOL</td>\n",
              "      <td>HEAD ON COLLISION</td>\n",
              "      <td>M</td>\n",
              "      <td>26</td>\n",
              "      <td>26.0</td>\n",
              "      <td>7.0</td>\n",
              "      <td>M/CYCLIST</td>\n",
              "      <td>1</td>\n",
              "      <td>25/06/2016</td>\n",
              "      <td>1.0</td>\n",
              "      <td>0</td>\n",
              "      <td>0</td>\n",
              "    </tr>\n",
              "  </tbody>\n",
              "</table>\n",
              "</div>"
            ],
            "text/plain": [
              "  TIME 24 HOURS NEW_TIME  ... FEMALE_COUNT UNKNOWN_GENDER_COUNT\n",
              "0           630  6:30:00  ...            0                    0\n",
              "\n",
              "[1 rows x 17 columns]"
            ]
          },
          "metadata": {
            "tags": []
          },
          "execution_count": 25
        }
      ]
    },
    {
      "cell_type": "markdown",
      "metadata": {
        "id": "_3yJtyzT2xmY"
      },
      "source": [
        "#### Completeness"
      ]
    },
    {
      "cell_type": "code",
      "metadata": {
        "id": "0Ml9llYon4WD",
        "colab": {
          "base_uri": "https://localhost:8080/"
        },
        "outputId": "68a3e9c7-5307-4041-d7aa-7ebc5135e47e"
      },
      "source": [
        "# Checking the dataset for null values;\n",
        "# \n",
        "missing = accidents.isna().sum()\n",
        "missing = missing[missing != 0]\n",
        "print('Number of columns with missing values: ', len(missing))\n",
        "\n",
        "missing.sort_values(ascending = False)"
      ],
      "execution_count": 26,
      "outputs": [
        {
          "output_type": "stream",
          "text": [
            "Number of columns with missing values:  10\n"
          ],
          "name": "stdout"
        },
        {
          "output_type": "execute_result",
          "data": {
            "text/plain": [
              "CAUSE CODE                28\n",
              "PLACE                      6\n",
              "TIME 24 HOURS              5\n",
              "ROAD                       3\n",
              "COUNTY                     3\n",
              "BASE/SUB BASE              2\n",
              "MALE_COUNT                 1\n",
              "NEW_AGE                    1\n",
              "AGE                        1\n",
              "BRIEF ACCIDENT DETAILS     1\n",
              "dtype: int64"
            ]
          },
          "metadata": {
            "tags": []
          },
          "execution_count": 26
        }
      ]
    },
    {
      "cell_type": "markdown",
      "metadata": {
        "id": "rl9bIRMC2TBe"
      },
      "source": [
        "#### Uniformity"
      ]
    },
    {
      "cell_type": "code",
      "metadata": {
        "id": "sHjqkwdZ27_9",
        "colab": {
          "base_uri": "https://localhost:8080/"
        },
        "outputId": "516480af-c20f-4462-ff4a-440ae0282916"
      },
      "source": [
        "# We rename the columns names into a uniform convention;\n",
        "# Step 1: We will remove any white spaces;\n",
        "# Step 2: We will also convert all the column names into lowercase;\n",
        "# \n",
        "accidents.columns=accidents.columns.str.strip().str.lower()\n",
        "accidents.columns"
      ],
      "execution_count": 27,
      "outputs": [
        {
          "output_type": "execute_result",
          "data": {
            "text/plain": [
              "Index(['time 24 hours', 'new_time', 'base/sub base', 'county', 'road', 'place',\n",
              "       'brief accident details', 'gender', 'age', 'new_age', 'cause code',\n",
              "       'victim', 'no.', 'date', 'male_count', 'female_count',\n",
              "       'unknown_gender_count'],\n",
              "      dtype='object')"
            ]
          },
          "metadata": {
            "tags": []
          },
          "execution_count": 27
        }
      ]
    },
    {
      "cell_type": "markdown",
      "metadata": {
        "id": "P1GvVi-82tVW"
      },
      "source": [
        "#### Consistency"
      ]
    },
    {
      "cell_type": "code",
      "metadata": {
        "colab": {
          "base_uri": "https://localhost:8080/"
        },
        "id": "vGxFbLme5j1w",
        "outputId": "71921f59-f1a5-4687-a5c1-ff103f010f44"
      },
      "source": [
        "# We check for any duplicated rows;\n",
        "# \n",
        "print('number of duplicated rows: ', accidents.duplicated().sum()) # There are no duplicated rows;"
      ],
      "execution_count": 28,
      "outputs": [
        {
          "output_type": "stream",
          "text": [
            "number of duplicated rows:  0\n"
          ],
          "name": "stdout"
        }
      ]
    },
    {
      "cell_type": "markdown",
      "metadata": {
        "id": "OUI48sFr23PJ"
      },
      "source": [
        "#### Validity"
      ]
    },
    {
      "cell_type": "code",
      "metadata": {
        "colab": {
          "base_uri": "https://localhost:8080/"
        },
        "id": "wyL3LDev9kzC",
        "outputId": "ed7d3517-df20-4578-cfa6-2a865cf0c614"
      },
      "source": [
        "# We will then drop the columns that will not be needed in the analysis;\n",
        "# \n",
        "accidents.drop(['time 24 hours', 'base/sub base', 'place', 'brief accident details', 'new_age', 'victim'], axis = 1, inplace = True)\n",
        "\n",
        "# Confirming whether the columns were dropped;\n",
        "# \n",
        "accidents.columns"
      ],
      "execution_count": 29,
      "outputs": [
        {
          "output_type": "execute_result",
          "data": {
            "text/plain": [
              "Index(['new_time', 'county', 'road', 'gender', 'age', 'cause code', 'no.',\n",
              "       'date', 'male_count', 'female_count', 'unknown_gender_count'],\n",
              "      dtype='object')"
            ]
          },
          "metadata": {
            "tags": []
          },
          "execution_count": 29
        }
      ]
    },
    {
      "cell_type": "markdown",
      "metadata": {
        "id": "6C19QdtdnKuS"
      },
      "source": [
        "#### Data Cleaning"
      ]
    },
    {
      "cell_type": "code",
      "metadata": {
        "colab": {
          "base_uri": "https://localhost:8080/",
          "height": 0
        },
        "id": "hiYrTJMvnoX5",
        "outputId": "710b6ad6-0c26-49d4-c645-a8d71623a547"
      },
      "source": [
        "# Previewing the first 5 rows of the DataFrame;\n",
        "# \n",
        "accidents.head(5)"
      ],
      "execution_count": 30,
      "outputs": [
        {
          "output_type": "execute_result",
          "data": {
            "text/html": [
              "<div>\n",
              "<style scoped>\n",
              "    .dataframe tbody tr th:only-of-type {\n",
              "        vertical-align: middle;\n",
              "    }\n",
              "\n",
              "    .dataframe tbody tr th {\n",
              "        vertical-align: top;\n",
              "    }\n",
              "\n",
              "    .dataframe thead th {\n",
              "        text-align: right;\n",
              "    }\n",
              "</style>\n",
              "<table border=\"1\" class=\"dataframe\">\n",
              "  <thead>\n",
              "    <tr style=\"text-align: right;\">\n",
              "      <th></th>\n",
              "      <th>new_time</th>\n",
              "      <th>county</th>\n",
              "      <th>road</th>\n",
              "      <th>gender</th>\n",
              "      <th>age</th>\n",
              "      <th>cause code</th>\n",
              "      <th>no.</th>\n",
              "      <th>date</th>\n",
              "      <th>male_count</th>\n",
              "      <th>female_count</th>\n",
              "      <th>unknown_gender_count</th>\n",
              "    </tr>\n",
              "  </thead>\n",
              "  <tbody>\n",
              "    <tr>\n",
              "      <th>0</th>\n",
              "      <td>6:30:00</td>\n",
              "      <td>MAKUENI</td>\n",
              "      <td>KITUI-ITHOKWE</td>\n",
              "      <td>M</td>\n",
              "      <td>26</td>\n",
              "      <td>7.0</td>\n",
              "      <td>1</td>\n",
              "      <td>25/06/2016</td>\n",
              "      <td>1.0</td>\n",
              "      <td>0</td>\n",
              "      <td>0</td>\n",
              "    </tr>\n",
              "    <tr>\n",
              "      <th>1</th>\n",
              "      <td>8:30:00</td>\n",
              "      <td>TAITA TAVETA</td>\n",
              "      <td>MOMBASA-NAIROBI</td>\n",
              "      <td>M</td>\n",
              "      <td>28</td>\n",
              "      <td>25.0</td>\n",
              "      <td>1</td>\n",
              "      <td>25/06/2016</td>\n",
              "      <td>1.0</td>\n",
              "      <td>0</td>\n",
              "      <td>0</td>\n",
              "    </tr>\n",
              "    <tr>\n",
              "      <th>2</th>\n",
              "      <td>13:30:00</td>\n",
              "      <td>KILIFI</td>\n",
              "      <td>MOMBASA-NAIROBI</td>\n",
              "      <td>M</td>\n",
              "      <td>A &amp; J</td>\n",
              "      <td>98.0</td>\n",
              "      <td>1</td>\n",
              "      <td>25/06/2016</td>\n",
              "      <td>1.0</td>\n",
              "      <td>0</td>\n",
              "      <td>0</td>\n",
              "    </tr>\n",
              "    <tr>\n",
              "      <th>3</th>\n",
              "      <td>21:00:00</td>\n",
              "      <td>NAKURU</td>\n",
              "      <td>NAKURU-NAIROBI</td>\n",
              "      <td>M</td>\n",
              "      <td>65</td>\n",
              "      <td>29.0</td>\n",
              "      <td>1</td>\n",
              "      <td>25/06/2016</td>\n",
              "      <td>1.0</td>\n",
              "      <td>0</td>\n",
              "      <td>0</td>\n",
              "    </tr>\n",
              "    <tr>\n",
              "      <th>4</th>\n",
              "      <td>19:00:00</td>\n",
              "      <td>MACHAKOS</td>\n",
              "      <td>MATUU-MWINGI</td>\n",
              "      <td>M</td>\n",
              "      <td>A</td>\n",
              "      <td>10.0</td>\n",
              "      <td>1</td>\n",
              "      <td>25/06/2016</td>\n",
              "      <td>1.0</td>\n",
              "      <td>0</td>\n",
              "      <td>0</td>\n",
              "    </tr>\n",
              "  </tbody>\n",
              "</table>\n",
              "</div>"
            ],
            "text/plain": [
              "   new_time        county  ... female_count unknown_gender_count\n",
              "0   6:30:00       MAKUENI  ...            0                    0\n",
              "1   8:30:00  TAITA TAVETA  ...            0                    0\n",
              "2  13:30:00        KILIFI  ...            0                    0\n",
              "3  21:00:00        NAKURU  ...            0                    0\n",
              "4  19:00:00      MACHAKOS  ...            0                    0\n",
              "\n",
              "[5 rows x 11 columns]"
            ]
          },
          "metadata": {
            "tags": []
          },
          "execution_count": 30
        }
      ]
    },
    {
      "cell_type": "code",
      "metadata": {
        "colab": {
          "base_uri": "https://localhost:8080/"
        },
        "id": "WKYfbyJttV7c",
        "outputId": "6e569f15-7e48-4df2-9c9f-72320bd12bc4"
      },
      "source": [
        "# Checking the column, 'road', for unique values;\n",
        "# \n",
        "accidents['road'].describe()"
      ],
      "execution_count": 31,
      "outputs": [
        {
          "output_type": "execute_result",
          "data": {
            "text/plain": [
              "count                1115\n",
              "unique                714\n",
              "top       NAIROBI MOMBASA\n",
              "freq                   23\n",
              "Name: road, dtype: object"
            ]
          },
          "metadata": {
            "tags": []
          },
          "execution_count": 31
        }
      ]
    },
    {
      "cell_type": "code",
      "metadata": {
        "colab": {
          "base_uri": "https://localhost:8080/"
        },
        "id": "TQu1Do-KKxtx",
        "outputId": "2eed4d16-2ed1-43e2-e311-4440ca288a80"
      },
      "source": [
        "# Checking the column, 'road', for unique values;\n",
        "# \n",
        "print('Number of roads:', accidents['road'].nunique())\n",
        "print('\\n\\n')\n",
        "\n",
        "accidents['road'].unique()"
      ],
      "execution_count": 32,
      "outputs": [
        {
          "output_type": "stream",
          "text": [
            "Number of roads: 714\n",
            "\n",
            "\n",
            "\n"
          ],
          "name": "stdout"
        },
        {
          "output_type": "execute_result",
          "data": {
            "text/plain": [
              "array(['KITUI-ITHOKWE', 'MOMBASA-NAIROBI', 'NAKURU-NAIROBI',\n",
              "       'MATUU-MWINGI', 'KATITO-KENDU BAY', 'MAKUTANO-MWEA',\n",
              "       'KENYATTA AVENUE', 'EASTERN BY PASS', 'NYERI-THIKA',\n",
              "       'LIKONI-LINGALUNGA', 'KENDU BAY-KASITI', 'MERU-MAUA',\n",
              "       'NAKURU NAIROBI', 'MIGORI KISII', 'KEROKA KISII',\n",
              "       'NJORO MAU NAROK', 'HAILE SELASIE ROAD', 'GITHUNGURI ROAD',\n",
              "       'MOMBASA NAIROBI', 'HAILE SELASIE', 'BONDO USENGE', 'RUIRU KIAMBU',\n",
              "       'KIMILILI CHWELE ROAD', 'NGONG NAIROBI', 'KILIFI MSA ROAD',\n",
              "       'THIKA SUPER HIGHWAY', 'MSAMBWENI UKUNDA', 'MERU MAUA',\n",
              "       'NAIROBI MOMBASA', 'ELDORET KITALE', 'LANDHIES', 'KAMOROCK',\n",
              "       'LUANDA KOTIENO NDORI', 'SOUTHERN BY PASS', 'KITENGELA ISINYA',\n",
              "       'NAIVASHA NAIROBI', 'MOMBASA', 'KILIFI-MALINDI', 'NAKURU-ELDORET',\n",
              "       'JOGOO', 'MSA VOI ROAD', 'KILIFI MOMBASA', 'KIJABE GICHIEGO ROAD',\n",
              "       'PARKLANDS MUTHAMA', 'KISII KILGORIS ROAD', 'KISII MIGORI',\n",
              "       'KISERIAN ISINYA', 'KITALE WEBUYE', 'ELDORET NAKURU',\n",
              "       'NAROK OLOPITO', 'NGONG ROAD', 'OLENARA IMPORO', 'WAIYAKI WAY',\n",
              "       'KERICHO NAKURU', 'MUMIAS KAKAMEGA', 'MATUNGU OKALLO MURRAM ROAD',\n",
              "       'EKERO EBUHANGA', 'KENDU BAY-KATITO', 'NYERI-NANYUKI',\n",
              "       'NAROK-MAIMAHIU', 'BURET NGOINA', 'MAINLAND-JOMVU',\n",
              "       'ELDORET -KAPSABET', 'ELEMENTAITA-GACHUMA', 'MWEA EMBU',\n",
              "       'KEROKA SOTIK', 'NAKURU GILGIL', 'NORTH AIRPORT',\n",
              "       'MAGADI KISERIAN', 'SIAYA-LUANDA', 'MARIAKANI-KALOLENI',\n",
              "       'KANGUNDO', 'NAKURU ELDORET', 'KAPLONG LITEIN', 'KANGUNDO NAIROBI',\n",
              "       'THIKA', 'KATITO KENDU', 'WEBUYE BUNGOMA', 'KITALE-ELDORET',\n",
              "       'KERICHO-KISUMU', 'LAARE-MATUATI', 'OTHAYA-NYERI', 'EMBU-MERU',\n",
              "       'THIKA-GATHIMA', 'NAROK-BOMET', 'KANGEMA KIRIAI', 'LANET NDUNDURI',\n",
              "       'EMBU MERU', 'THIKA SUPERHIGHWAY', 'UKUNDA LIKONI',\n",
              "       'NAROK MAIMAHIU', 'SAGANA MAKUTANO', 'LINKS ROAD',\n",
              "       'KIMUNYE KUTUS ROAD', 'BUSIA KISUMU ROAD', 'MACHAKOS KITUI RD',\n",
              "       'IKONGE MAGWAGWA ROAD', 'OLENGURUONE ROAD', \"MURANG'A SAGANA\",\n",
              "       'LUNGALUNGA VANGA', 'WOTE MAKINDU', 'KEHANCHA NTIMARU',\n",
              "       'ELDORET WEBUYE', 'KABATI TOWNSHIP', 'LUSAKA', 'KAKAMEGA KISUMU',\n",
              "       'KITENGELA-KAJIADO', 'MATUU-THIKA', 'GARISSA ROAD', 'LIKONI-FERRY',\n",
              "       'KUTUS-KERUGOYA', 'NAKURU-ELEMENTAITA', 'NGARATUK O-SIBILO',\n",
              "       'BIASHARA STREET', 'SIAYA NYANDORERA', 'NJORO-ELBURGON',\n",
              "       'EMBU-KIRITIRI', 'THIKA ROAD', 'CHAVAKALI KILINGILI',\n",
              "       'AWASI AHERO ROAD', 'KISII MARANI', 'WEBUYE KITALE ROAD',\n",
              "       'GATAKA DIVERSION', 'BUNGOMA WEBUYE ROAD', \"KENOL MURANG'A ROAD\",\n",
              "       'NAIROBI NAKURU', 'KAJIADO MURRAM ROAD', 'KITENGELA ISINYA ROAD',\n",
              "       'MOMBASA ROAD', 'HAILE SELASIE AVENUE', 'OUTERING ROAD',\n",
              "       'MWINGI GARISSA RD', 'BOMET NAROK', 'MWATATE VOI',\n",
              "       'KEROKA TOWNSHIP', 'KISUMU BUSIA', 'MALINDI MALANGA',\n",
              "       'GILGIL NAKURU', 'MURANGA', 'WAIYAKI', 'MAINLAND JOMVU',\n",
              "       'KILIFI VITENGENI', 'MUSYINI KYULU MURRAM ROAD',\n",
              "       'WITHIN MACHAKOS TOWN', 'KIJABE NAIVASHA', 'PROFESSIONAL ROAD',\n",
              "       'KISII KILGORIS', 'KIAMBERE BOLRIT', 'NORTH AIRPORT ROAD',\n",
              "       'THIKA GARISSA', 'NANYUKI NYERI', 'RODI KOPANY RANGWE',\n",
              "       'MATUNGU PANYA', 'KIANGOKOMA TRADING CENTRE', 'KABARNET MARIGAT',\n",
              "       'BOMET SOTIK', 'KISII KISUMU', 'NAIROBI KIKUYU',\n",
              "       'ELDAMA RAVINE SAOS', 'KAJIADO ISINYA', 'OYUGIS KISII',\n",
              "       'NAIROBI MAGADI', 'KAKAMEGA WEBUYE', 'NORTHERN BY PASS',\n",
              "       'CHEMILIL AWASI', 'OLKALAU GILGIL', 'ELDORET NYARU',\n",
              "       'MERU MIKINDURI', 'MWINGI GARISSA', 'NYANGUSU KEROKA',\n",
              "       'NYERI NYAHURURU', 'MURANGA KIRIANI', 'KAKAMEGA MUMIAS',\n",
              "       'JOGOO ROAD', 'CHAVAKALI KAPSABET', 'MALINDI MOMBASA',\n",
              "       'MAKADARA NAMAGA', 'JUJA ROAD', 'WITHIN DONHOLM SHOPPING CENTRE',\n",
              "       'EMBU MANYATTA', 'MAI MAHIU NAIVASHA', 'MUMIAS LUKOYE',\n",
              "       'NDHIWA SORI', 'SHIMANZI MOMBASA', 'MUNGOTIO RAVINE',\n",
              "       'NAIROBI NAIVASHA', 'LANDHIES ROAD', 'MWEA MAKUTANO',\n",
              "       'LOWER KABETE', 'MARIGAT LORUK', 'MAKUPA CUSE WAY',\n",
              "       'GARISSA MWINGI', 'NAIROBI MACHAKOS', 'JUJA', 'BONDO NDORI',\n",
              "       'KIAMBU', 'MUKURWENI KARATINA', 'LIMURU FOREST', 'RACE COURSE',\n",
              "       'MOLO ELBAGON', 'AWENDO MIGORI', 'KIKOKO NUNGUNI', 'MULOT NAROK',\n",
              "       'KITALE ELDORET', 'MTITO TOWNSHIP', 'ONYWONGO PAP ONDITI',\n",
              "       'KILIFI MALINDI', 'KANGEMA MURANGA', 'MAIMAHIU NAROK',\n",
              "       'USENGE BEACH ROAD', 'MAKUPA CAUSEWAY(KIPARANI)', 'AHERO KISUMU',\n",
              "       'MOMBASA KILIFI', 'KIGOTO MAGUNGA', 'NAIROBI THIKA',\n",
              "       'KOMAROCK ROAD', 'MAX ROAD', 'KENOL SAGANA', 'BUNGOMA MUMIAS',\n",
              "       'NAROK MULOT', 'OYUGIS KISUMU', 'ONDIRE KIKUYU', 'BUNGOMA WEBUYE',\n",
              "       'KITUI MACHAKOS', 'RACE COURSE ROAD', 'MAUA MERU', 'LITEIN SOTIK',\n",
              "       'MOMBASA MALINDI', 'KISUMU NAIROBI', 'AIRPORT', 'KINAMBA',\n",
              "       'NJAMBINI OLKALAO', 'KENYATTA', 'FOREST LIMURU', 'EATLEIGH',\n",
              "       'MOGOTIO NAKURU', 'KERICHO', 'BUNGOMA MALABA', 'KENDU BAY KATITU',\n",
              "       'GATURA THIKA', 'KANDIZI OLE KASAFI', 'RIURU LIMURU',\n",
              "       'ITEN KABARNET', 'NAIVASHA NAIROBI HIGHWAY', 'SIAYA LUANDA',\n",
              "       'KAPLONG BOMET', 'THIUKA SUPER HIGHWAY',\n",
              "       'ITEN KWA HILDA RESIDENCE', 'KANGUNDO ROAD', 'NYERI OTHAYA',\n",
              "       'THIKA NAIROBI', 'NDUMBERI KANNGA', 'HESHIMA', 'KATITU KENDU BAY',\n",
              "       'NYERI NANYUKI', 'NJABINI OLKALAU', 'KAJIADO NAMANGA',\n",
              "       'SPINE ROAD', 'NAIROBI-BUSIA', 'NAROK-MAU', 'KERICHO-NAKURU',\n",
              "       'BOKOLI-KIMILILI', 'PIPELINE ELEMENTAITA', 'MAGADI ROAD',\n",
              "       'LANET-NDUNDORI', 'LONDIANI-KERICHO', 'NAKURU-KERICHO',\n",
              "       'MOMBASA-VOI', 'MOMBASA-KILIFI', 'KISII-MARANI',\n",
              "       'MIHARATI-ENGINEER ROAD', 'KITALE-LODWAR', 'ELDORET-WEBUYE',\n",
              "       'ELUCHE-MUMIAS', 'KANYONYO-EMBU', 'ELDORET-NAKURU', 'EMBU-CHUKA',\n",
              "       'MERU - MAUA', 'NAIROBI-MOMBASA', 'MOMBASA-MALINDI',\n",
              "       'ALONG RUNNYENJES - UGWERI ROAD', 'NYERI-KAMAKWA',\n",
              "       'KERUGOYA-KUTUS', 'KITALE - ELDORET', 'BUNGOMA-WEBUYE',\n",
              "       'KIRIA-INI-KANGEMA', 'KITUI-KABATI', 'NAKURU-GILGIL',\n",
              "       'KITUI-KIBWEZI', 'WANGARI MATHAI', 'GARISSA-MWINGI',\n",
              "       'LUANDA MAJENGO', 'BOMET-LITEN', 'THIKA-MATUU', 'DAGORETI ROAD',\n",
              "       \"SOKO NG'OMBE BULA RIGI EARTH ROAD\", 'MBUNBUNI NDUMBI',\n",
              "       'MUTHUE MUTOMO', 'BARAKA ROAD', 'GILGIL NAIVASHA',\n",
              "       'NAIROBI MOMBASA ROAD', 'KERICHO LONDIANI', 'RAKWARO',\n",
              "       'WATAMU GEDE', 'MOYALE', 'SAGANA MURANGA',\n",
              "       'AKUBWOIT KWANGAMOR ROAD', 'WANGARI MATHAAI',\n",
              "       'OLD MOMBASA MALINDI', 'KATHEKAI', 'RABAI ROAD',\n",
              "       'OLJOROROK OLKALAU', 'LUSAKA ROAD', 'KISUMU KAKAMEGA',\n",
              "       'WITHIN JAMUHURI PRIMARY SCHOOL', 'WOTE MAKUENI',\n",
              "       'NANYUKI NAIROBI', 'NYAMIRA NYAMAIYA', 'SAGANA KAGIO',\n",
              "       'BISHOP ROAD JUNCTION', 'MARIGAT MOGOTIO', 'KANGUNDO MACHAKOS',\n",
              "       'SIAYA-DOMINION', 'KONDOLE-NYAMASARIA', 'MURANGA-KIRIANI',\n",
              "       'ELBURGON-NJORO', 'MAKINDU-KOSEWE', 'ELDORET-KAPSABET',\n",
              "       'KAPSABET-LESSOS', 'NAIROBI - MOMBASA', 'MUKARARA KIUNYU',\n",
              "       'MATISI NZOIA', 'ISINYA KITENGELA', 'THIKA MATUU',\n",
              "       'KAGUMO KERUGOYA', 'MURANGA KANGEMA', 'NYAURURU NAKURU',\n",
              "       'MAKUTANO KITALE ROAD', 'EMBU KIRITIRI', 'KIBOKO THIKA',\n",
              "       'AHERO AWASI', 'MBUGUNI CHECK POINT', 'GATHITHINI LUNATIC',\n",
              "       'KIAMBU-THIKA', 'LIMURU RUAKA', 'KIMILILI-MIIKHU',\n",
              "       'KITHIMANI KIMANGU', 'MURANGA GITU', 'KAUMA MATINYANI',\n",
              "       'KERUGOYA BARICHO', 'MURANGA SAGANA', 'KEROKA-MASIMBA',\n",
              "       'MAU SUMMIT -KERICHO', 'NAIROBI-NAIVASHA', 'MUTHURWA ACCESS ROAD',\n",
              "       'BUNGOMA-MUMIAS', 'KAYOLE', 'NYERI KARATINA', 'NYAMIRA IKONGE',\n",
              "       'MUMIAS EBUYANGU', 'MANDERA MALKA SUFTU', 'NAIVASHA GILGIL',\n",
              "       'SHIATSALA MANYULIA', 'NYERI NANUKI', 'KAPLETUNDO CHEBOLE',\n",
              "       'NGONG KISERIAN', 'KITISE KIKOME', 'SIGALAGALA-BUKURA',\n",
              "       'NEW PUMWANI ROAD', 'KENDU BAY-HOMA BAY', 'OUTERING',\n",
              "       'KARATINA-NYERI', 'MUTHURWA', 'MUMBINI WOTE', 'GARISSA IJARA',\n",
              "       'KERICHO NAKURU ROAD', 'UGWERI RUNYEJES ROAD', 'LIMURU NAIROBI',\n",
              "       'NYAHURURU-OLKALOU', 'UKUNDA LIKONI ROAD', 'NYERI NANYUKI ROAD',\n",
              "       'KISERIAN MAGADI', 'SOFIA ST BARANABUS CHURCH',\n",
              "       'THIKA SUPERHIGH WAY', 'AIRPORT ROAD', 'MERU NKUBU',\n",
              "       'NANYUKI BARAKA', 'LARI', nan, 'THOGOTO GIKAMBURA',\n",
              "       'NAIROBI THIKA SERVICE LANE', 'GIKAMBURA NDEIYA ROAD',\n",
              "       'FLYOVER NJAMBINI ROAD', 'MOLO TOWNSHIP', 'MAI MAHIU',\n",
              "       'NAKURU ELEMENTAITA', 'GATUNDU KENYATTA', 'BUTULA-MUMIAS',\n",
              "       'KIVAA-EMBU', 'KYUSINI-MUTHA', 'NAIVASHA-NAIROBI',\n",
              "       'UHURU HIGH WAY', 'BUSIA-MUMIAS', 'MARWA-KIGANJO', 'FIRST AVENUE',\n",
              "       'KISII-KISUMU', 'ISINYA-KITENGELA', 'MAAI-MAHIU NAIVASHA',\n",
              "       'KEROKA-NYANGUSU', 'KYENI KARURUMO', 'OLD MOIYNE DRIVE',\n",
              "       'MARSABIT MOYALE RD', 'NYAMIRA-MIRUKA RD', 'NYAHURURU BOIMAN RD',\n",
              "       'TOM MBOYA STREET', 'KITUNGATI-KATWALA RD', 'MOGOTHE KIRIMA',\n",
              "       'LUANDA-MAJENGO', 'NAKURU-RAVINE', 'MBITA-HOMABAY',\n",
              "       'NANDI HILL-KIMAKI', 'SOUTHERN BY-PASS', 'SILIBWET KIPTAGICH RD',\n",
              "       'MOSORIOT-KABIYET RDD', 'MUTHINGA GATITU RD', 'KOMBO MUNYIRI RD',\n",
              "       'KEROKA-SOTIK RD', 'EMALI MATILIKU MURRAM RD', 'NYERI-IHURURU',\n",
              "       'OYUGIS-KISUMU', 'TAGWA-NDATHI MURRAM ROAD', 'MALINDI-MOMBASA',\n",
              "       'TAVETA-MWATATE', 'MERU-NANYUKI', 'KAHAGAINI',\n",
              "       'KENDU BAY TOWN SHIP', 'KINYATTA ROAD', 'KENDU BAY KATITU ROAD',\n",
              "       'KUVASALI-IKOLI', 'SOTIK-KERICHO', 'KASIGU-MAUNGU',\n",
              "       'KIRIANE MUTINDWA ROAD', 'ILL OUT AREA', 'KERICHO-LONDAINI',\n",
              "       'CHOGORIA-MERU', 'KERICHO-LONDIANI', 'KERUGOYA-KARATINA',\n",
              "       'OGWEDHI-OYANI MASAI MURRAM RD', 'POTREITZ ROAD',\n",
              "       'KIKUYU-WANGIGE ROAD', 'KABIRIA ROAD', 'ITEN-KARBANET',\n",
              "       'NAROK-MAHIMAHIU', 'NGOIGWA-THIKA ROAD', 'NAKURU - ELDORET',\n",
              "       'ENTERPRISE ROAD', 'KISII-KILGORIS', 'MAUA-KIENGU',\n",
              "       'KAKAMEGA-KISUMU', 'MOGOMBO-KEMERA', 'NAURU-ELDORET',\n",
              "       'FIRST PARKLANDS AVENUE', 'NYAHURURU-MWEIGA', 'EMBU-KIBUKU',\n",
              "       'KISUMU-BUSIA', 'IRINDI-GATUGI', 'MAUA KIUTUNI',\n",
              "       'SIGALAGALA BUTERE', 'MAKUTANO SAGANA', 'AWASI KERICHO',\n",
              "       'OLKALAU NYAHURURU', 'KAMURUGU IRIAMURAI', 'BOMET KAPLONG',\n",
              "       'NYAMIRA KISII', 'BONDO AGIGO', 'NYERI TETU', 'MOMBASA -NAIROBIU',\n",
              "       'NAMANGA-NAIROBI', 'KIVAA-KIRITIRI', 'MWINGI-KYUSO',\n",
              "       'NAIVASHA ROAD', 'KITUI-MACHAKOS', 'ITEN ELDORET', 'GETA ROAD',\n",
              "       'ELDORET KAPSABET', 'KISII KEROKA', 'NYERI MATHARI',\n",
              "       'BUTULA MUMIAS', 'UHURU HIGHWAY', 'LIKONI UKUNDA', 'MATUU MWINGI',\n",
              "       'ELDORET BUNGOMA', 'GARISSA-KISMAIYO', 'SISOTE-DOROFU MURRAM ROAD',\n",
              "       'NAIROBI-NAKURU', 'MSAMBWENI-LUNGALUNGA', 'KITUI-KANYONYO',\n",
              "       'KAKAMEGA-WEBUYE', 'KIAMBU-RUIRU', 'MAKUTANO LODWAR',\n",
              "       'MUGANI MURIGURU', 'OTHAYA KARIMA', 'KATHENGE SIAKAGO',\n",
              "       'KIAMBU ROAD', 'NAROK MAI MAHIU', 'BISMAK MURRAM ROAD',\n",
              "       'KISUMU BONDO', 'LUNGALUNGA ROAD', 'OTHAYA NYERI',\n",
              "       'KAVIANI SAIKONI', 'MARIGAT KABARNET', 'MERU EMBU',\n",
              "       'NAIRBI MOMBASA', 'BOMET-NAROK', 'KOMBANI- KWALE',\n",
              "       'MASALANI GARISSA', 'NYAHURURU DESTINATION', 'KHAYEGA-SHINYALU',\n",
              "       'RAMISI-MSAMBWENI', 'MACHAKOS-KYUMBI', 'BANANA-KIAMBU',\n",
              "       'CHUKA-EMBU', 'BUNGOMA-MALABA', 'KISUMU-KAKAMEGA',\n",
              "       'SOUTHERN BY -PASS', 'HOMA BAY-MBITA', 'OUTERNG ROAD',\n",
              "       'EASTERN BYPASS', 'BUSIA-MIMIAS', 'NAKURU-SUBUKIA', 'SOUTHERN',\n",
              "       'KEROKA NYAGUSU', 'ISIOLO ARCHERS POST', 'LWANDETI LUGARI',\n",
              "       'MURANGA ROAD', 'MAGADI', 'CHINGA GAKURU', 'MURANGA KAHURO',\n",
              "       'LORETO ZIWA MACHINE MURRAM ROAD', 'SAGANA KENOL ROAD',\n",
              "       'MULTIPLE HAULIERS ROAD', 'KISMAIYO ROAD', 'IKONGE CORNER',\n",
              "       'CHOGORIA CHUKA', 'SHILONGO FUVARE MURRAM ROAD', 'KEROKA MASIMBA',\n",
              "       'KHAYEGA SHINYALU', 'MERU NANYUKI', 'NAIROBI MSA ROAD',\n",
              "       'SAGANA-MAKUTANO-KENOL RD', 'KISUMU BUSIA RD', 'MACHAKOS -WOTE RD',\n",
              "       'LIMURU KIAMBU ROAD', 'MATHIORA ROAD', 'NYAMIRA KISII ROAD',\n",
              "       'MATUU THIKA ROAD', 'KYENI KARURUMO MARRUM ROAD', 'KANYONYO EMBU',\n",
              "       'OBUNGA KONDELE', 'LIMURU KWABIRA', 'VOI KALOLENI',\n",
              "       'KENEGUT KAPSOIT', 'NAIROBI KISERIAN', 'NAIROBI- MOMBASA',\n",
              "       'MARIGAT- MOGOTIO', 'ELDORET - KITALE', 'KARARTINA- KIMABARA',\n",
              "       'KISUMU- KAKAMEGA', 'MOMBASA- KILIFI', 'BANANA- RUAKA',\n",
              "       'NAMANGA- KITENGELA', 'KISUMU- NAIROBI', 'KERICHO- KISUMU',\n",
              "       'MOYALE- HEILLU', 'KENDU BAY/ HOMA BAY RD', 'KISUMU- BUSIA',\n",
              "       'SAB ATIA EKERO RD', 'KINAMBA- NYAHURURU', 'MERU- MAUA',\n",
              "       'NAMANGA- KAJIADO', 'NORTHERN BY- PASS', 'OL KALOU- KARIAMU',\n",
              "       'MAI MAHIU- NAIVASHA', 'ELDORET- WEBUYE', 'LARE- MAUA',\n",
              "       'MARSABIT- KARGI', 'KEROKA-KISII', 'MACHAKOS-HUDUMA CENTRE',\n",
              "       'KITALE-WEBUYE', 'KISII-MARAMI', 'BOMET- KAPLONG RD',\n",
              "       'EMBU- SIAKAGO', 'WEBUYE- ELDORET', 'WEBUYE- KAKAMEGA',\n",
              "       'KIVANINI- MASINGA', 'KANDARA- KITHIMA', 'KAWANJARA- ISHIARA',\n",
              "       'KIKUYU-WANGIGE', 'MOYALE TOWN', 'WAIYIAKI WAY',\n",
              "       'ITURAMIRO-KIBIRU MURRAM ROAD', 'NAIROBI -MOMBASA',\n",
              "       'GILGIL - NAKURU', 'MERU-CHUKA', 'CHAKA-KIGANJO',\n",
              "       'KAPTEMBWA-KAPKURES', 'MOMBASA- NAIROBI', 'KISERIAN - RONGAI',\n",
              "       'MALINDI-LAMU', 'EMBU-KIBUGU', 'KENOL-MAKUYU', 'OTHAYA-RURUGUTI',\n",
              "       'MACHARIA ROAD', 'KIRINYAGA-KUTUS', 'LIMURU-KUTUS',\n",
              "       'KENOL-MURANGA', 'SIAYA-NYANDORERA', 'KAPSABET -CHAVAKALI',\n",
              "       'NYERI-GATHUTHI', 'METO-MAILI TISA MURRAM ROAD',\n",
              "       'NAIVASHA -NAIROBI', 'KUNDA KINDU MAIN STAGE',\n",
              "       'TALAI KAPTUM MURRAM ROAD', 'KALINDU NGIINI MUTUNE ROAD',\n",
              "       'JOSKA KAGUNDO', 'ISIOLO MARSABIT', 'NAIROBI LIMURU',\n",
              "       'NAMBALE- MALANGA', 'KAWANGWARE', 'NAKURU- ELDORET',\n",
              "       'NYAHURURU NYERI', 'RODI NDHIWA', 'MOMBASA RD', 'EMBU- KIVAA',\n",
              "       'NAKURU- NAIROBI', 'NAROK- BOMET', 'PLATEAU GIRLS HIGH SCHOOL',\n",
              "       'THIKA - KENOL', 'KIAMBU WEST', 'KERICHO LETAIN', 'LADHIS',\n",
              "       'CHORA', 'BUSIA-MAYONI', 'KABIYET KURGONG-KIPKAREN SALIA RD',\n",
              "       'SAGANA-KARATINA', 'EKERO-SABATIA', 'WITHIN UASIN GISHU',\n",
              "       'LIMURU-KAMANDURA', 'SOTIK-NAROK', 'MAKENJI-MURUKA',\n",
              "       'KAPSABET-CHAVAKALI', 'PROF.WANGARI MATHAI', 'NYERI - THIKA',\n",
              "       'OLKALOU-KARIAMU', 'SAGANA-MAKUTANO', 'AWENDO - RONGO',\n",
              "       'NYERI-KARATINA', 'NORTHERN BY PASS ROAD',\n",
              "       'OLKALOU-NYAHURURU ROAD', 'MUHORONI-LONDIANI', 'MSA-NRB',\n",
              "       'KANGUNDO RD', 'KILIFI-MOMBASA', 'KALOLENI- MAZERAS RD',\n",
              "       'MATANYA ROAD', 'KIMILILI-CHWELE ROAD', 'MATUU-THIKA ROAD',\n",
              "       'NAIROBI-TALA ROAD', 'MURANGA RD', 'BONDO-KISUMU',\n",
              "       'KINDU-BAY KATITU', 'KATITO KEMDUBAY', 'GATUNDU RD',\n",
              "       'KILIIFI-DIANI', 'KIAMBU KWAMAIKO', 'NYABOHANSE KOMOMWAMU',\n",
              "       'KENOL MAKUTANO', 'NORTHEN BY PASS', 'MATUU THIKA', 'SESSI',\n",
              "       'MUMO MUTINI', 'AIRWINGS KODHEK ROAD', 'BOMET -NAROK',\n",
              "       'RONGO- AWENDO', 'BANANA RUAKA', 'KAPOROK SEGEREK',\n",
              "       'TAWA KALAWANI', 'MIGORI AWENDO', 'NDUNYU MUNYANGE',\n",
              "       'KISUMU TOWNSHIP', 'MWANGULU MWELENI ROAD', 'WEBUYE ELDORET',\n",
              "       \"MURANG'A ROAD\", 'NYAMIRA MIRUKA ROAD', 'OMIRIGAMI-SENGERA RD',\n",
              "       'KISUMU-NAIROBI', 'MITUNGUU-NKUBU', 'LIKONI ROAD',\n",
              "       'KIKUYU-DAGORETTI', 'HOMABAY-KENDU BAY', 'ELBURGON NJORO',\n",
              "       'ISINYA-KAJIADO', 'NAIVASHA KINANGOP', 'UKUNDA BEACH ROAD',\n",
              "       'KISII NYAMIRA', 'TIRIMIONINI KASISIT MURRAM ROAD',\n",
              "       'GAKONYA MUKURU WEINI', 'KITALE KILONGOLO', 'DEVKI MAKADARA',\n",
              "       'THIKA GATANGA', 'EMINING-OTERIT RD', 'NTIMARU-KEHANCHA',\n",
              "       'KENOL-MAKUTANO', 'THIKA RD', 'NAIROBI-KANGUNDO'], dtype=object)"
            ]
          },
          "metadata": {
            "tags": []
          },
          "execution_count": 32
        }
      ]
    },
    {
      "cell_type": "code",
      "metadata": {
        "id": "0lOn1xCzJx4I",
        "colab": {
          "base_uri": "https://localhost:8080/",
          "height": 0
        },
        "outputId": "13953224-c37a-4ef8-ab5d-bfdf938a714a"
      },
      "source": [
        "# Cleaning the column, 'road';\n",
        "# \n",
        "accidents.replace({'road' : {'MOMBASA-NAIROBI' : 'NAIROBI MOMBASA',\n",
        "                             'MOMBASA NAIROBI' : 'NAIROBI MOMBASA',\n",
        "                             'NAIROBI - MOMBASA' : 'NAIROBI MOMBASA',\n",
        "                             'NAIROBI-MOMBASA' : 'NAIROBI MOMBASA',\n",
        "                             'NAIROBI MOMBASA ROAD' : 'NAIROBI MOMBASA',\n",
        "                             'NAIROBI - MOMBASA' : 'NAIROBI MOMBASA',\n",
        "                             'NAIRBI MOMBASA' : 'NAIROBI MOMBASA',\n",
        "                             'NAIROBI MSA ROAD' : 'NAIROBI MOMBASA',\n",
        "                             'NAIROBI- MOMBASA' : 'NAIROBI MOMBASA',\n",
        "                             'NAIROBI -MOMBASA' : 'NAIROBI MOMBASA',\n",
        "                             'MOMBASA- NAIROBI' : 'NAIROBI MOMBASA',\n",
        "                             'MSA-NRB' : 'NAIROBI MOMBASA'\n",
        "                             }}, inplace=True)\n",
        "accidents.head(5)"
      ],
      "execution_count": 33,
      "outputs": [
        {
          "output_type": "execute_result",
          "data": {
            "text/html": [
              "<div>\n",
              "<style scoped>\n",
              "    .dataframe tbody tr th:only-of-type {\n",
              "        vertical-align: middle;\n",
              "    }\n",
              "\n",
              "    .dataframe tbody tr th {\n",
              "        vertical-align: top;\n",
              "    }\n",
              "\n",
              "    .dataframe thead th {\n",
              "        text-align: right;\n",
              "    }\n",
              "</style>\n",
              "<table border=\"1\" class=\"dataframe\">\n",
              "  <thead>\n",
              "    <tr style=\"text-align: right;\">\n",
              "      <th></th>\n",
              "      <th>new_time</th>\n",
              "      <th>county</th>\n",
              "      <th>road</th>\n",
              "      <th>gender</th>\n",
              "      <th>age</th>\n",
              "      <th>cause code</th>\n",
              "      <th>no.</th>\n",
              "      <th>date</th>\n",
              "      <th>male_count</th>\n",
              "      <th>female_count</th>\n",
              "      <th>unknown_gender_count</th>\n",
              "    </tr>\n",
              "  </thead>\n",
              "  <tbody>\n",
              "    <tr>\n",
              "      <th>0</th>\n",
              "      <td>6:30:00</td>\n",
              "      <td>MAKUENI</td>\n",
              "      <td>KITUI-ITHOKWE</td>\n",
              "      <td>M</td>\n",
              "      <td>26</td>\n",
              "      <td>7.0</td>\n",
              "      <td>1</td>\n",
              "      <td>25/06/2016</td>\n",
              "      <td>1.0</td>\n",
              "      <td>0</td>\n",
              "      <td>0</td>\n",
              "    </tr>\n",
              "    <tr>\n",
              "      <th>1</th>\n",
              "      <td>8:30:00</td>\n",
              "      <td>TAITA TAVETA</td>\n",
              "      <td>NAIROBI MOMBASA</td>\n",
              "      <td>M</td>\n",
              "      <td>28</td>\n",
              "      <td>25.0</td>\n",
              "      <td>1</td>\n",
              "      <td>25/06/2016</td>\n",
              "      <td>1.0</td>\n",
              "      <td>0</td>\n",
              "      <td>0</td>\n",
              "    </tr>\n",
              "    <tr>\n",
              "      <th>2</th>\n",
              "      <td>13:30:00</td>\n",
              "      <td>KILIFI</td>\n",
              "      <td>NAIROBI MOMBASA</td>\n",
              "      <td>M</td>\n",
              "      <td>A &amp; J</td>\n",
              "      <td>98.0</td>\n",
              "      <td>1</td>\n",
              "      <td>25/06/2016</td>\n",
              "      <td>1.0</td>\n",
              "      <td>0</td>\n",
              "      <td>0</td>\n",
              "    </tr>\n",
              "    <tr>\n",
              "      <th>3</th>\n",
              "      <td>21:00:00</td>\n",
              "      <td>NAKURU</td>\n",
              "      <td>NAKURU-NAIROBI</td>\n",
              "      <td>M</td>\n",
              "      <td>65</td>\n",
              "      <td>29.0</td>\n",
              "      <td>1</td>\n",
              "      <td>25/06/2016</td>\n",
              "      <td>1.0</td>\n",
              "      <td>0</td>\n",
              "      <td>0</td>\n",
              "    </tr>\n",
              "    <tr>\n",
              "      <th>4</th>\n",
              "      <td>19:00:00</td>\n",
              "      <td>MACHAKOS</td>\n",
              "      <td>MATUU-MWINGI</td>\n",
              "      <td>M</td>\n",
              "      <td>A</td>\n",
              "      <td>10.0</td>\n",
              "      <td>1</td>\n",
              "      <td>25/06/2016</td>\n",
              "      <td>1.0</td>\n",
              "      <td>0</td>\n",
              "      <td>0</td>\n",
              "    </tr>\n",
              "  </tbody>\n",
              "</table>\n",
              "</div>"
            ],
            "text/plain": [
              "   new_time        county  ... female_count unknown_gender_count\n",
              "0   6:30:00       MAKUENI  ...            0                    0\n",
              "1   8:30:00  TAITA TAVETA  ...            0                    0\n",
              "2  13:30:00        KILIFI  ...            0                    0\n",
              "3  21:00:00        NAKURU  ...            0                    0\n",
              "4  19:00:00      MACHAKOS  ...            0                    0\n",
              "\n",
              "[5 rows x 11 columns]"
            ]
          },
          "metadata": {
            "tags": []
          },
          "execution_count": 33
        }
      ]
    },
    {
      "cell_type": "code",
      "metadata": {
        "colab": {
          "base_uri": "https://localhost:8080/"
        },
        "id": "D_XEo0mB6SOa",
        "outputId": "dfe66ede-b833-4098-d840-7548bb30444b"
      },
      "source": [
        "# Cleaning the column, 'cause code';\n",
        "# \n",
        "# We will create a new column, 'cause';\n",
        "# We will impute;\n",
        "#\n",
        "print('number of nan values in the column cause code:' ,accidents['cause code'].isnull().sum())\n",
        "\n",
        "# Imputing the null values using the forward fill method;\n",
        "# \n",
        "accidents['cause code'].fillna(method= 'ffill',inplace= True)\n",
        "print('\\n\\n')\n",
        "\n",
        "cause=[]\n",
        "for i in accidents['cause code']:\n",
        "    if i>=1 and i<=30:\n",
        "        cause.append('Driver')\n",
        "    elif i>=31 and i<=58:\n",
        "        cause.append('Cyclist')\n",
        "    elif i>=59 and i<=68:\n",
        "        cause.append('Pedestrians')\n",
        "    elif i>=69 and i<=73:\n",
        "        cause.append('Passengers')\n",
        "    elif i>=74 and i<=75:\n",
        "        cause.append('Animals')\n",
        "    elif i>=76 and i<=77:\n",
        "        cause.append('Obstructions')\n",
        "    elif i>=78 and i<=89:\n",
        "        cause.append('Vehicle Defects')\n",
        "    elif i>=90 and i<=93:\n",
        "        cause.append('Road Deffects')\n",
        "    elif i>=94 and i<=96:\n",
        "        cause.append('Weather')\n",
        "    elif i >=97 and i<=98:\n",
        "        cause.append('Other Causes')\n",
        "    elif i>=99:\n",
        "        cause.append('No account')\n",
        ";\n",
        "accidents['cause'] = cause"
      ],
      "execution_count": 34,
      "outputs": [
        {
          "output_type": "stream",
          "text": [
            "number of nan values in the column cause code: 28\n",
            "\n",
            "\n",
            "\n"
          ],
          "name": "stdout"
        }
      ]
    },
    {
      "cell_type": "code",
      "metadata": {
        "id": "LFJKtuf7KVRq",
        "colab": {
          "base_uri": "https://localhost:8080/",
          "height": 0
        },
        "outputId": "88cb2bc8-efaf-4976-e3f2-5b16b21f192a"
      },
      "source": [
        "# Cleaning the column, 'age';\n",
        "# \n",
        "# Create a new column for age;\n",
        "# \n",
        "accidents['Cleaned_Age'] = accidents['age']\n",
        "\n",
        "# Create a new column for the cleaned AGE data;\n",
        "# \n",
        "accidents.replace({'Cleaned_Age' : { '6 MONTHS' : 0.5, '5 MONTHS': 0.4,'3 MONTHS': 0.25,'20 & 25 YRS' : 22.5,'23 & 27': 25,'39,30,40,33, & 30':34,\n",
        "'29 & 32': 31.5,'22,65 & 9 MONTHS': 26.4,'30 & 33' : 31.5,'46,47,34': 42.3,'21& 28':24.5,'20 & 25 YRS': 22.5,\n",
        " '34 AND 24': 27,'45&52': 48.5,'22 YRS' : 22,'28, 31 YRS': 29.5,'25&28': 26.5,'52 &17': 34.5,'25&19': 22,'21 & 21': 21,\n",
        " '42,24,32': 32,'40,38,45': 41,'4MTS': 0.3}}, inplace = True)\n",
        "\n",
        "# Checking the unique values to confirm if the above were deleted;\n",
        "# \n",
        "accidents['Cleaned_Age'].unique()\n",
        "\n",
        "# Getting the mean of the values;\n",
        "# \n",
        "Mean_Age = pd.to_numeric(accidents['Cleaned_Age'], errors = 'coerce').mean()\n",
        "\n",
        "accidents.fillna({\n",
        "    'age' : Mean_Age\n",
        "    \n",
        "},inplace = True)\n",
        "\n",
        "# Checking the unique values again;\n",
        "# \n",
        "accidents['Cleaned_Age'].unique()\n",
        "\n",
        "# Replacing the str values with the mean;\n",
        "#\n",
        "accidents.replace({'Cleaned_Age': { 'J' : Mean_Age, 'A & J' : Mean_Age,'A&J': Mean_Age,'M':Mean_Age,\n",
        "'A': Mean_Age}}, inplace = True)\n",
        "\n",
        "# Check the data set if column created;\n",
        "# \n",
        "accidents.head(5)"
      ],
      "execution_count": 35,
      "outputs": [
        {
          "output_type": "execute_result",
          "data": {
            "text/html": [
              "<div>\n",
              "<style scoped>\n",
              "    .dataframe tbody tr th:only-of-type {\n",
              "        vertical-align: middle;\n",
              "    }\n",
              "\n",
              "    .dataframe tbody tr th {\n",
              "        vertical-align: top;\n",
              "    }\n",
              "\n",
              "    .dataframe thead th {\n",
              "        text-align: right;\n",
              "    }\n",
              "</style>\n",
              "<table border=\"1\" class=\"dataframe\">\n",
              "  <thead>\n",
              "    <tr style=\"text-align: right;\">\n",
              "      <th></th>\n",
              "      <th>new_time</th>\n",
              "      <th>county</th>\n",
              "      <th>road</th>\n",
              "      <th>gender</th>\n",
              "      <th>age</th>\n",
              "      <th>cause code</th>\n",
              "      <th>no.</th>\n",
              "      <th>date</th>\n",
              "      <th>male_count</th>\n",
              "      <th>female_count</th>\n",
              "      <th>unknown_gender_count</th>\n",
              "      <th>cause</th>\n",
              "      <th>Cleaned_Age</th>\n",
              "    </tr>\n",
              "  </thead>\n",
              "  <tbody>\n",
              "    <tr>\n",
              "      <th>0</th>\n",
              "      <td>6:30:00</td>\n",
              "      <td>MAKUENI</td>\n",
              "      <td>KITUI-ITHOKWE</td>\n",
              "      <td>M</td>\n",
              "      <td>26</td>\n",
              "      <td>7.0</td>\n",
              "      <td>1</td>\n",
              "      <td>25/06/2016</td>\n",
              "      <td>1.0</td>\n",
              "      <td>0</td>\n",
              "      <td>0</td>\n",
              "      <td>Driver</td>\n",
              "      <td>26</td>\n",
              "    </tr>\n",
              "    <tr>\n",
              "      <th>1</th>\n",
              "      <td>8:30:00</td>\n",
              "      <td>TAITA TAVETA</td>\n",
              "      <td>NAIROBI MOMBASA</td>\n",
              "      <td>M</td>\n",
              "      <td>28</td>\n",
              "      <td>25.0</td>\n",
              "      <td>1</td>\n",
              "      <td>25/06/2016</td>\n",
              "      <td>1.0</td>\n",
              "      <td>0</td>\n",
              "      <td>0</td>\n",
              "      <td>Driver</td>\n",
              "      <td>28</td>\n",
              "    </tr>\n",
              "    <tr>\n",
              "      <th>2</th>\n",
              "      <td>13:30:00</td>\n",
              "      <td>KILIFI</td>\n",
              "      <td>NAIROBI MOMBASA</td>\n",
              "      <td>M</td>\n",
              "      <td>A &amp; J</td>\n",
              "      <td>98.0</td>\n",
              "      <td>1</td>\n",
              "      <td>25/06/2016</td>\n",
              "      <td>1.0</td>\n",
              "      <td>0</td>\n",
              "      <td>0</td>\n",
              "      <td>Other Causes</td>\n",
              "      <td>33.6627</td>\n",
              "    </tr>\n",
              "    <tr>\n",
              "      <th>3</th>\n",
              "      <td>21:00:00</td>\n",
              "      <td>NAKURU</td>\n",
              "      <td>NAKURU-NAIROBI</td>\n",
              "      <td>M</td>\n",
              "      <td>65</td>\n",
              "      <td>29.0</td>\n",
              "      <td>1</td>\n",
              "      <td>25/06/2016</td>\n",
              "      <td>1.0</td>\n",
              "      <td>0</td>\n",
              "      <td>0</td>\n",
              "      <td>Driver</td>\n",
              "      <td>65</td>\n",
              "    </tr>\n",
              "    <tr>\n",
              "      <th>4</th>\n",
              "      <td>19:00:00</td>\n",
              "      <td>MACHAKOS</td>\n",
              "      <td>MATUU-MWINGI</td>\n",
              "      <td>M</td>\n",
              "      <td>A</td>\n",
              "      <td>10.0</td>\n",
              "      <td>1</td>\n",
              "      <td>25/06/2016</td>\n",
              "      <td>1.0</td>\n",
              "      <td>0</td>\n",
              "      <td>0</td>\n",
              "      <td>Driver</td>\n",
              "      <td>33.6627</td>\n",
              "    </tr>\n",
              "  </tbody>\n",
              "</table>\n",
              "</div>"
            ],
            "text/plain": [
              "   new_time        county  ...         cause Cleaned_Age\n",
              "0   6:30:00       MAKUENI  ...        Driver          26\n",
              "1   8:30:00  TAITA TAVETA  ...        Driver          28\n",
              "2  13:30:00        KILIFI  ...  Other Causes     33.6627\n",
              "3  21:00:00        NAKURU  ...        Driver          65\n",
              "4  19:00:00      MACHAKOS  ...        Driver     33.6627\n",
              "\n",
              "[5 rows x 13 columns]"
            ]
          },
          "metadata": {
            "tags": []
          },
          "execution_count": 35
        }
      ]
    },
    {
      "cell_type": "code",
      "metadata": {
        "colab": {
          "base_uri": "https://localhost:8080/"
        },
        "id": "PTbccU1qKxmg",
        "outputId": "7f9724fb-ba7a-4b4e-f9b5-838860878636"
      },
      "source": [
        "# Cleaning the column, 'county';\n",
        "# \n",
        "print('number of counties',accidents['county'].nunique())\n",
        "print('\\n\\n')\n",
        "accidents['county'].unique()"
      ],
      "execution_count": 36,
      "outputs": [
        {
          "output_type": "stream",
          "text": [
            "number of counties 57\n",
            "\n",
            "\n",
            "\n"
          ],
          "name": "stdout"
        },
        {
          "output_type": "execute_result",
          "data": {
            "text/plain": [
              "array(['MAKUENI', 'TAITA TAVETA', 'KILIFI', 'NAKURU', 'MACHAKOS',\n",
              "       'HOMA BAY', 'KIRINYAGA', 'NAIROBI', 'KIAMBU', 'MOMBASA', 'MERU',\n",
              "       'MIGORI', 'KISII', 'SIAYA', 'BUNGOMA', 'KWALE', 'NANDI',\n",
              "       'TRANS NZOIA', 'KAJIADO', 'UASIN GISHU', 'NAROK', 'KERCHO',\n",
              "       'KAKAMEGA', 'NYERI', 'KERICHO', 'EMBU', 'KISUMU', 'MURANGA',\n",
              "       'BUSIA', \"MURANG'A\", 'VIHIGA', 'GARISSA', 'BARINGO', 'LAIKIPIA',\n",
              "       'MWINGI', 'BOMET', 'NYAMIRA', 'ELGEYO MARAKWET', 'MAKURU',\n",
              "       'NYAHURURU', 'KITUI', nan, 'MARAKWET', 'NYANDARUA', 'WEST POKOT',\n",
              "       'THARAKA NITHI', 'MALINDI', 'TIGANIA', 'MANDERA', 'MARSABIT',\n",
              "       'HOMABAY', 'KILFI', 'TRAN NZOIA', 'ISIOLO', 'UASIN NGISHU',\n",
              "       'TAITA-TAVETA', 'HOMA-BAY', 'MOYALE'], dtype=object)"
            ]
          },
          "metadata": {
            "tags": []
          },
          "execution_count": 36
        }
      ]
    },
    {
      "cell_type": "code",
      "metadata": {
        "colab": {
          "base_uri": "https://localhost:8080/"
        },
        "id": "CocBopESKxoj",
        "outputId": "0d69ab02-0899-479f-b269-a98eb52ea821"
      },
      "source": [
        "# Replacing;\n",
        "# \n",
        "accidents.replace({'county' : {'HOMA BAY': 'HOMABAY','HOMA-BAY': 'HOMABAY','TIGANIA': 'MERU','KILFI': 'KILIFI','MWINGI':'KITUI','NYAHURURU': 'LAIKIPIA','TAITA-TAVETA': 'TAITA TAVETA','KERCHO': 'KERICHO',\"MURANG'A\": 'MURANGA'}}, inplace= True)\n",
        "accidents['county'].describe()"
      ],
      "execution_count": 37,
      "outputs": [
        {
          "output_type": "execute_result",
          "data": {
            "text/plain": [
              "count        1115\n",
              "unique         48\n",
              "top       NAIROBI\n",
              "freq          183\n",
              "Name: county, dtype: object"
            ]
          },
          "metadata": {
            "tags": []
          },
          "execution_count": 37
        }
      ]
    },
    {
      "cell_type": "code",
      "metadata": {
        "id": "IXtXyUOIq9ph",
        "colab": {
          "base_uri": "https://localhost:8080/",
          "height": 0
        },
        "outputId": "6f046f8a-3c23-4291-9776-3f72b6d5c791"
      },
      "source": [
        "# Combining the 'date' and 'new_time' columns and converting the values to datetime format;\n",
        "# \n",
        "accidents['dt'] = pd.to_datetime(accidents['date'] + ' ' + accidents['new_time'])\n",
        "accidents.head(1)"
      ],
      "execution_count": 38,
      "outputs": [
        {
          "output_type": "execute_result",
          "data": {
            "text/html": [
              "<div>\n",
              "<style scoped>\n",
              "    .dataframe tbody tr th:only-of-type {\n",
              "        vertical-align: middle;\n",
              "    }\n",
              "\n",
              "    .dataframe tbody tr th {\n",
              "        vertical-align: top;\n",
              "    }\n",
              "\n",
              "    .dataframe thead th {\n",
              "        text-align: right;\n",
              "    }\n",
              "</style>\n",
              "<table border=\"1\" class=\"dataframe\">\n",
              "  <thead>\n",
              "    <tr style=\"text-align: right;\">\n",
              "      <th></th>\n",
              "      <th>new_time</th>\n",
              "      <th>county</th>\n",
              "      <th>road</th>\n",
              "      <th>gender</th>\n",
              "      <th>age</th>\n",
              "      <th>cause code</th>\n",
              "      <th>no.</th>\n",
              "      <th>date</th>\n",
              "      <th>male_count</th>\n",
              "      <th>female_count</th>\n",
              "      <th>unknown_gender_count</th>\n",
              "      <th>cause</th>\n",
              "      <th>Cleaned_Age</th>\n",
              "      <th>dt</th>\n",
              "    </tr>\n",
              "  </thead>\n",
              "  <tbody>\n",
              "    <tr>\n",
              "      <th>0</th>\n",
              "      <td>6:30:00</td>\n",
              "      <td>MAKUENI</td>\n",
              "      <td>KITUI-ITHOKWE</td>\n",
              "      <td>M</td>\n",
              "      <td>26</td>\n",
              "      <td>7.0</td>\n",
              "      <td>1</td>\n",
              "      <td>25/06/2016</td>\n",
              "      <td>1.0</td>\n",
              "      <td>0</td>\n",
              "      <td>0</td>\n",
              "      <td>Driver</td>\n",
              "      <td>26</td>\n",
              "      <td>2016-06-25 06:30:00</td>\n",
              "    </tr>\n",
              "  </tbody>\n",
              "</table>\n",
              "</div>"
            ],
            "text/plain": [
              "  new_time   county           road  ...   cause Cleaned_Age                  dt\n",
              "0  6:30:00  MAKUENI  KITUI-ITHOKWE  ...  Driver          26 2016-06-25 06:30:00\n",
              "\n",
              "[1 rows x 14 columns]"
            ]
          },
          "metadata": {
            "tags": []
          },
          "execution_count": 38
        }
      ]
    },
    {
      "cell_type": "code",
      "metadata": {
        "colab": {
          "base_uri": "https://localhost:8080/"
        },
        "id": "76c4JJlLj_QJ",
        "outputId": "4d9f20ad-db7f-49bc-eea7-5c06384938be"
      },
      "source": [
        "# Confirming the change has taken place;\n",
        "# \n",
        "accidents.dtypes "
      ],
      "execution_count": 39,
      "outputs": [
        {
          "output_type": "execute_result",
          "data": {
            "text/plain": [
              "new_time                        object\n",
              "county                          object\n",
              "road                            object\n",
              "gender                          object\n",
              "age                             object\n",
              "cause code                     float64\n",
              "no.                              int64\n",
              "date                            object\n",
              "male_count                     float64\n",
              "female_count                     int64\n",
              "unknown_gender_count             int64\n",
              "cause                           object\n",
              "Cleaned_Age                     object\n",
              "dt                      datetime64[ns]\n",
              "dtype: object"
            ]
          },
          "metadata": {
            "tags": []
          },
          "execution_count": 39
        }
      ]
    },
    {
      "cell_type": "code",
      "metadata": {
        "id": "R6iwlVjzq9sr"
      },
      "source": [
        "# Creating a new column month and populating it;\n",
        "# \n",
        "month=[]\n",
        "for i in accidents['dt'].dt.month:\n",
        "    if i==1:\n",
        "        month.append('Jan')\n",
        "    elif i==2:\n",
        "        month.append('Feb')\n",
        "    elif i==3:\n",
        "        month.append('Mar')\n",
        "    elif i==4:\n",
        "        month.append('Apr')\n",
        "    elif i==5:\n",
        "        month.append('May')\n",
        "    elif i==6:\n",
        "        month.append('Jun')\n",
        "    elif i==7:\n",
        "        month.append('Jul')\n",
        "    elif i==8:\n",
        "        month.append('Aug')\n",
        "    elif i==9:\n",
        "        month.append('Sep')\n",
        "    elif i ==10:\n",
        "        month.append('Oct')\n",
        "    elif i==11:\n",
        "        month.append('Nov')\n",
        "    elif i==12:\n",
        "        month.append('Dec')\n",
        "    else:\n",
        "        month.append('Null')\n",
        ";\n",
        "accidents['month'] = month"
      ],
      "execution_count": 40,
      "outputs": []
    },
    {
      "cell_type": "code",
      "metadata": {
        "id": "n5-skH0esISD",
        "colab": {
          "base_uri": "https://localhost:8080/"
        },
        "outputId": "a8abd3f6-baee-4a89-df74-3ef2e5630403"
      },
      "source": [
        "# Creating a new column time;\n",
        "accidents['time'] = [d.time() for d in accidents['dt']]\n",
        "accidents.columns"
      ],
      "execution_count": 41,
      "outputs": [
        {
          "output_type": "execute_result",
          "data": {
            "text/plain": [
              "Index(['new_time', 'county', 'road', 'gender', 'age', 'cause code', 'no.',\n",
              "       'date', 'male_count', 'female_count', 'unknown_gender_count', 'cause',\n",
              "       'Cleaned_Age', 'dt', 'month', 'time'],\n",
              "      dtype='object')"
            ]
          },
          "metadata": {
            "tags": []
          },
          "execution_count": 41
        }
      ]
    },
    {
      "cell_type": "code",
      "metadata": {
        "id": "5lqwjDx01eid",
        "colab": {
          "base_uri": "https://localhost:8080/"
        },
        "outputId": "e23cfe2b-21d0-4172-8cc1-75ccecc3049f"
      },
      "source": [
        "# Dropping more columns that will not be needed in the analysis;\n",
        "# \n",
        "accidents.drop(['new_time', 'gender', 'date', 'cause code', 'age'], axis = 1 , inplace = True)\n",
        "accidents.columns"
      ],
      "execution_count": 42,
      "outputs": [
        {
          "output_type": "execute_result",
          "data": {
            "text/plain": [
              "Index(['county', 'road', 'no.', 'male_count', 'female_count',\n",
              "       'unknown_gender_count', 'cause', 'Cleaned_Age', 'dt', 'month', 'time'],\n",
              "      dtype='object')"
            ]
          },
          "metadata": {
            "tags": []
          },
          "execution_count": 42
        }
      ]
    },
    {
      "cell_type": "markdown",
      "metadata": {
        "id": "qVi4OLrNL170"
      },
      "source": [
        "# Analysis"
      ]
    },
    {
      "cell_type": "markdown",
      "metadata": {
        "id": "A96E2onvMD9Z"
      },
      "source": [
        "##### 1. On which roads are there the most victims? Which areas or counties do these accidents occur in?"
      ]
    },
    {
      "cell_type": "code",
      "metadata": {
        "id": "EEYkrv-u8Jyg",
        "colab": {
          "base_uri": "https://localhost:8080/",
          "height": 0
        },
        "outputId": "d907056e-b30a-458d-d9e2-416d96849886"
      },
      "source": [
        "accidentsroads = pd.pivot_table(accidents, values = ['no.'], index = ['road'], aggfunc = np.sum)\n",
        "accidentsroads.sort_values(by = 'no.', ascending = False).head(3)"
      ],
      "execution_count": 43,
      "outputs": [
        {
          "output_type": "execute_result",
          "data": {
            "text/html": [
              "<div>\n",
              "<style scoped>\n",
              "    .dataframe tbody tr th:only-of-type {\n",
              "        vertical-align: middle;\n",
              "    }\n",
              "\n",
              "    .dataframe tbody tr th {\n",
              "        vertical-align: top;\n",
              "    }\n",
              "\n",
              "    .dataframe thead th {\n",
              "        text-align: right;\n",
              "    }\n",
              "</style>\n",
              "<table border=\"1\" class=\"dataframe\">\n",
              "  <thead>\n",
              "    <tr style=\"text-align: right;\">\n",
              "      <th></th>\n",
              "      <th>no.</th>\n",
              "    </tr>\n",
              "    <tr>\n",
              "      <th>road</th>\n",
              "      <th></th>\n",
              "    </tr>\n",
              "  </thead>\n",
              "  <tbody>\n",
              "    <tr>\n",
              "      <th>NAIROBI MOMBASA</th>\n",
              "      <td>119</td>\n",
              "    </tr>\n",
              "    <tr>\n",
              "      <th>GILGIL - NAKURU</th>\n",
              "      <td>18</td>\n",
              "    </tr>\n",
              "    <tr>\n",
              "      <th>THIKA SUPER HIGHWAY</th>\n",
              "      <td>18</td>\n",
              "    </tr>\n",
              "  </tbody>\n",
              "</table>\n",
              "</div>"
            ],
            "text/plain": [
              "                     no.\n",
              "road                    \n",
              "NAIROBI MOMBASA      119\n",
              "GILGIL - NAKURU       18\n",
              "THIKA SUPER HIGHWAY   18"
            ]
          },
          "metadata": {
            "tags": []
          },
          "execution_count": 43
        }
      ]
    },
    {
      "cell_type": "code",
      "metadata": {
        "colab": {
          "base_uri": "https://localhost:8080/",
          "height": 0
        },
        "id": "BZmBAG17MiRd",
        "outputId": "e144ba5e-61e3-4806-ee55-f5a37ed26de7"
      },
      "source": [
        "accidentscounties = pd.pivot_table(accidents, values = ['no.'], index=['county'], aggfunc = np.sum)\n",
        "accidentscounties.sort_values(by = 'no.',ascending = False).head()"
      ],
      "execution_count": 44,
      "outputs": [
        {
          "output_type": "execute_result",
          "data": {
            "text/html": [
              "<div>\n",
              "<style scoped>\n",
              "    .dataframe tbody tr th:only-of-type {\n",
              "        vertical-align: middle;\n",
              "    }\n",
              "\n",
              "    .dataframe tbody tr th {\n",
              "        vertical-align: top;\n",
              "    }\n",
              "\n",
              "    .dataframe thead th {\n",
              "        text-align: right;\n",
              "    }\n",
              "</style>\n",
              "<table border=\"1\" class=\"dataframe\">\n",
              "  <thead>\n",
              "    <tr style=\"text-align: right;\">\n",
              "      <th></th>\n",
              "      <th>no.</th>\n",
              "    </tr>\n",
              "    <tr>\n",
              "      <th>county</th>\n",
              "      <th></th>\n",
              "    </tr>\n",
              "  </thead>\n",
              "  <tbody>\n",
              "    <tr>\n",
              "      <th>NAIROBI</th>\n",
              "      <td>195</td>\n",
              "    </tr>\n",
              "    <tr>\n",
              "      <th>KIAMBU</th>\n",
              "      <td>108</td>\n",
              "    </tr>\n",
              "    <tr>\n",
              "      <th>NAKURU</th>\n",
              "      <td>96</td>\n",
              "    </tr>\n",
              "    <tr>\n",
              "      <th>MAKUENI</th>\n",
              "      <td>86</td>\n",
              "    </tr>\n",
              "    <tr>\n",
              "      <th>MACHAKOS</th>\n",
              "      <td>58</td>\n",
              "    </tr>\n",
              "  </tbody>\n",
              "</table>\n",
              "</div>"
            ],
            "text/plain": [
              "          no.\n",
              "county       \n",
              "NAIROBI   195\n",
              "KIAMBU    108\n",
              "NAKURU     96\n",
              "MAKUENI    86\n",
              "MACHAKOS   58"
            ]
          },
          "metadata": {
            "tags": []
          },
          "execution_count": 44
        }
      ]
    },
    {
      "cell_type": "markdown",
      "metadata": {
        "id": "KriQBLNuNaYx"
      },
      "source": [
        "##### 2. What is the most common cause of road accidents?"
      ]
    },
    {
      "cell_type": "code",
      "metadata": {
        "colab": {
          "base_uri": "https://localhost:8080/"
        },
        "id": "mwEUSvTeNe9q",
        "outputId": "6f7dab60-f1a9-4234-9a38-503cd8924981"
      },
      "source": [
        "print('Number of causes of accidents: ', accidents['cause'].nunique())\n",
        "print('\\n\\n')\n",
        "accidentcause = accidents.groupby('cause')['no.'].agg('sum').sort_values(ascending = False)\n",
        "accidentcause"
      ],
      "execution_count": 45,
      "outputs": [
        {
          "output_type": "stream",
          "text": [
            "Number of causes of accidents:  9\n",
            "\n",
            "\n",
            "\n"
          ],
          "name": "stdout"
        },
        {
          "output_type": "execute_result",
          "data": {
            "text/plain": [
              "cause\n",
              "Driver             661\n",
              "Other Causes       253\n",
              "Pedestrians        185\n",
              "Cyclist            115\n",
              "Vehicle Defects     66\n",
              "Passengers          29\n",
              "Road Deffects        6\n",
              "Obstructions         4\n",
              "No account           2\n",
              "Name: no., dtype: int64"
            ]
          },
          "metadata": {
            "tags": []
          },
          "execution_count": 45
        }
      ]
    },
    {
      "cell_type": "code",
      "metadata": {
        "colab": {
          "base_uri": "https://localhost:8080/",
          "height": 0
        },
        "id": "UoVA8jzeN0GZ",
        "outputId": "fc15f5c0-342a-441c-ef00-aa3c4e71897d"
      },
      "source": [
        "plt.figure(figsize = (8,8))\n",
        "plt.title('Distribution of Causes of Accidents', fontdict = {'fontsize':12}, color = 'blue')\n",
        "labels = ['Driver','Other Causes','Pedestrians','Cyclist','Vehicle Defects','Passengers','Road Deffects','Obstructions','No account']\n",
        "accidentcause.plot(kind='bar')\n",
        "plt.xlabel('Causes')\n",
        "plt.xticks(rotation=30)\n",
        "plt.ylabel('Number of victims')\n",
        "plt.show()"
      ],
      "execution_count": 46,
      "outputs": [
        {
          "output_type": "display_data",
          "data": {
            "image/png": "[encoded data removed]",
            "text/plain": [
              "<Figure size 576x576 with 1 Axes>"
            ]
          },
          "metadata": {
            "tags": [],
            "needs_background": "light"
          }
        }
      ]
    },
    {
      "cell_type": "markdown",
      "metadata": {
        "id": "6t3ivZT2OCfE"
      },
      "source": [
        "##### 3. What time do most fatalities occur due to accidents?"
      ]
    },
    {
      "cell_type": "code",
      "metadata": {
        "id": "y2reXMBKOIRK",
        "colab": {
          "base_uri": "https://localhost:8080/",
          "height": 0
        },
        "outputId": "28a8227f-944e-4902-f781-30b82a20cb60"
      },
      "source": [
        "accidentsno = pd.pivot_table(accidents, values = ['no.'], index = ['time'], aggfunc = np.sum)\n",
        "accidentsno.sort_values(by = 'no.',ascending = False).head(5)"
      ],
      "execution_count": 47,
      "outputs": [
        {
          "output_type": "execute_result",
          "data": {
            "text/html": [
              "<div>\n",
              "<style scoped>\n",
              "    .dataframe tbody tr th:only-of-type {\n",
              "        vertical-align: middle;\n",
              "    }\n",
              "\n",
              "    .dataframe tbody tr th {\n",
              "        vertical-align: top;\n",
              "    }\n",
              "\n",
              "    .dataframe thead th {\n",
              "        text-align: right;\n",
              "    }\n",
              "</style>\n",
              "<table border=\"1\" class=\"dataframe\">\n",
              "  <thead>\n",
              "    <tr style=\"text-align: right;\">\n",
              "      <th></th>\n",
              "      <th>no.</th>\n",
              "    </tr>\n",
              "    <tr>\n",
              "      <th>time</th>\n",
              "      <th></th>\n",
              "    </tr>\n",
              "  </thead>\n",
              "  <tbody>\n",
              "    <tr>\n",
              "      <th>20:30:00</th>\n",
              "      <td>71</td>\n",
              "    </tr>\n",
              "    <tr>\n",
              "      <th>21:00:00</th>\n",
              "      <td>41</td>\n",
              "    </tr>\n",
              "    <tr>\n",
              "      <th>20:00:00</th>\n",
              "      <td>40</td>\n",
              "    </tr>\n",
              "    <tr>\n",
              "      <th>19:30:00</th>\n",
              "      <td>33</td>\n",
              "    </tr>\n",
              "    <tr>\n",
              "      <th>18:00:00</th>\n",
              "      <td>32</td>\n",
              "    </tr>\n",
              "  </tbody>\n",
              "</table>\n",
              "</div>"
            ],
            "text/plain": [
              "          no.\n",
              "time         \n",
              "20:30:00   71\n",
              "21:00:00   41\n",
              "20:00:00   40\n",
              "19:30:00   33\n",
              "18:00:00   32"
            ]
          },
          "metadata": {
            "tags": []
          },
          "execution_count": 47
        }
      ]
    },
    {
      "cell_type": "markdown",
      "metadata": {
        "id": "Mlqkq3bDdeQ0"
      },
      "source": [
        "##### 4. What time do most accidents happen?"
      ]
    },
    {
      "cell_type": "code",
      "metadata": {
        "id": "9EajeUn0iLqo",
        "colab": {
          "base_uri": "https://localhost:8080/"
        },
        "outputId": "9e0acbef-6b06-422b-8440-47bb1047884d"
      },
      "source": [
        "accidents['time'].value_counts()"
      ],
      "execution_count": 48,
      "outputs": [
        {
          "output_type": "execute_result",
          "data": {
            "text/plain": [
              "20:30:00    67\n",
              "21:00:00    39\n",
              "20:00:00    36\n",
              "19:00:00    29\n",
              "19:30:00    27\n",
              "            ..\n",
              "12:20:00     1\n",
              "21:55:00     1\n",
              "14:38:00     1\n",
              "22:10:00     1\n",
              "17:14:00     1\n",
              "Name: time, Length: 185, dtype: int64"
            ]
          },
          "metadata": {
            "tags": []
          },
          "execution_count": 48
        }
      ]
    },
    {
      "cell_type": "code",
      "metadata": {
        "id": "VDlY0Wo2icUB",
        "colab": {
          "base_uri": "https://localhost:8080/",
          "height": 0
        },
        "outputId": "b8048b82-7fbf-4ea4-86c5-edc601dfb424"
      },
      "source": [
        "plt.figure(figsize=(8,8))\n",
        "accidents.plot(x='time', y='no.', kind='line')\n",
        "plt.show()"
      ],
      "execution_count": 49,
      "outputs": [
        {
          "output_type": "display_data",
          "data": {
            "text/plain": [
              "<Figure size 576x576 with 0 Axes>"
            ]
          },
          "metadata": {
            "tags": []
          }
        },
        {
          "output_type": "display_data",
          "data": {
            "image/png": "[encoded data removed]",
            "text/plain": [
              "<Figure size 432x288 with 1 Axes>"
            ]
          },
          "metadata": {
            "tags": [],
            "needs_background": "light"
          }
        }
      ]
    },
    {
      "cell_type": "code",
      "metadata": {
        "id": "o6YRlhs7vud1",
        "colab": {
          "base_uri": "https://localhost:8080/",
          "height": 0
        },
        "outputId": "1076b194-b7ec-4c31-eb83-75b39d740ddb"
      },
      "source": [
        "accidents[accidents['no.']==18]"
      ],
      "execution_count": 50,
      "outputs": [
        {
          "output_type": "execute_result",
          "data": {
            "text/html": [
              "<div>\n",
              "<style scoped>\n",
              "    .dataframe tbody tr th:only-of-type {\n",
              "        vertical-align: middle;\n",
              "    }\n",
              "\n",
              "    .dataframe tbody tr th {\n",
              "        vertical-align: top;\n",
              "    }\n",
              "\n",
              "    .dataframe thead th {\n",
              "        text-align: right;\n",
              "    }\n",
              "</style>\n",
              "<table border=\"1\" class=\"dataframe\">\n",
              "  <thead>\n",
              "    <tr style=\"text-align: right;\">\n",
              "      <th></th>\n",
              "      <th>county</th>\n",
              "      <th>road</th>\n",
              "      <th>no.</th>\n",
              "      <th>male_count</th>\n",
              "      <th>female_count</th>\n",
              "      <th>unknown_gender_count</th>\n",
              "      <th>cause</th>\n",
              "      <th>Cleaned_Age</th>\n",
              "      <th>dt</th>\n",
              "      <th>month</th>\n",
              "      <th>time</th>\n",
              "    </tr>\n",
              "  </thead>\n",
              "  <tbody>\n",
              "    <tr>\n",
              "      <th>939</th>\n",
              "      <td>NAKURU</td>\n",
              "      <td>GILGIL - NAKURU</td>\n",
              "      <td>18</td>\n",
              "      <td>1.0</td>\n",
              "      <td>1</td>\n",
              "      <td>16</td>\n",
              "      <td>Driver</td>\n",
              "      <td>33.6627</td>\n",
              "      <td>2019-05-21 02:30:00</td>\n",
              "      <td>May</td>\n",
              "      <td>02:30:00</td>\n",
              "    </tr>\n",
              "  </tbody>\n",
              "</table>\n",
              "</div>"
            ],
            "text/plain": [
              "     county             road  no.  ...                  dt  month      time\n",
              "939  NAKURU  GILGIL - NAKURU   18  ... 2019-05-21 02:30:00    May  02:30:00\n",
              "\n",
              "[1 rows x 11 columns]"
            ]
          },
          "metadata": {
            "tags": []
          },
          "execution_count": 50
        }
      ]
    },
    {
      "cell_type": "code",
      "metadata": {
        "id": "zMYjNwZxvuQK"
      },
      "source": [
        "# from the output above, we can see that at  2:30 am we had an accident that had 18 victims"
      ],
      "execution_count": 51,
      "outputs": []
    },
    {
      "cell_type": "markdown",
      "metadata": {
        "id": "Z_VyD_DAOUAc"
      },
      "source": [
        "##### 5. Which months of the year do most accidents occur?"
      ]
    },
    {
      "cell_type": "code",
      "metadata": {
        "id": "HEYVERXAOIZa",
        "colab": {
          "base_uri": "https://localhost:8080/"
        },
        "outputId": "ec12d02e-6481-4fb7-c4e0-e61fc5a9a957"
      },
      "source": [
        "months = accidents['dt'].dt.month.value_counts()\n",
        "print('Number of unique Months: ', len(months))\n",
        "print('\\n\\n')\n",
        "months"
      ],
      "execution_count": 52,
      "outputs": [
        {
          "output_type": "stream",
          "text": [
            "Number of unique Months:  12\n",
            "\n",
            "\n",
            "\n"
          ],
          "name": "stdout"
        },
        {
          "output_type": "execute_result",
          "data": {
            "text/plain": [
              "4     197\n",
              "6     158\n",
              "9      85\n",
              "10     84\n",
              "8      80\n",
              "1      79\n",
              "12     76\n",
              "11     76\n",
              "7      74\n",
              "5      72\n",
              "2      70\n",
              "3      67\n",
              "Name: dt, dtype: int64"
            ]
          },
          "metadata": {
            "tags": []
          },
          "execution_count": 52
        }
      ]
    },
    {
      "cell_type": "code",
      "metadata": {
        "id": "M2DPk0RVOIbK",
        "colab": {
          "base_uri": "https://localhost:8080/",
          "height": 0
        },
        "outputId": "eead792c-e738-4eab-82c9-b93f5439c9ee"
      },
      "source": [
        "plt.figure(figsize = (8,8))\n",
        "plt.title('Distribution of Accidents by Months', fontdict = {'fontsize':12}, color = 'blue')\n",
        "plt.xlabel('Month')\n",
        "accidents['month'].value_counts().plot(kind = 'bar')\n",
        "plt.ylabel('Count of Accident Victims')\n",
        "plt.show()"
      ],
      "execution_count": 53,
      "outputs": [
        {
          "output_type": "display_data",
          "data": {
            "image/png": "[encoded data removed]",
            "text/plain": [
              "<Figure size 576x576 with 1 Axes>"
            ]
          },
          "metadata": {
            "tags": [],
            "needs_background": "light"
          }
        }
      ]
    },
    {
      "cell_type": "markdown",
      "metadata": {
        "id": "2aR0sqrmPJZg"
      },
      "source": [
        "##### 6. Which age had the most victims in accidents?"
      ]
    },
    {
      "cell_type": "code",
      "metadata": {
        "id": "n9KiV_psPiSZ",
        "colab": {
          "base_uri": "https://localhost:8080/",
          "height": 0
        },
        "outputId": "046598b6-c67e-4cc5-8d9b-3f2048c913a5"
      },
      "source": [
        "accidentsage = pd.pivot_table(accidents,values = ['no.'], index = ['Cleaned_Age'], aggfunc = np.sum)\n",
        "accidentsage.sort_values(by = 'no.',ascending = False).head(5)"
      ],
      "execution_count": 54,
      "outputs": [
        {
          "output_type": "execute_result",
          "data": {
            "text/html": [
              "<div>\n",
              "<style scoped>\n",
              "    .dataframe tbody tr th:only-of-type {\n",
              "        vertical-align: middle;\n",
              "    }\n",
              "\n",
              "    .dataframe tbody tr th {\n",
              "        vertical-align: top;\n",
              "    }\n",
              "\n",
              "    .dataframe thead th {\n",
              "        text-align: right;\n",
              "    }\n",
              "</style>\n",
              "<table border=\"1\" class=\"dataframe\">\n",
              "  <thead>\n",
              "    <tr style=\"text-align: right;\">\n",
              "      <th></th>\n",
              "      <th>no.</th>\n",
              "    </tr>\n",
              "    <tr>\n",
              "      <th>Cleaned_Age</th>\n",
              "      <th></th>\n",
              "    </tr>\n",
              "  </thead>\n",
              "  <tbody>\n",
              "    <tr>\n",
              "      <th>33.66271028037383</th>\n",
              "      <td>749</td>\n",
              "    </tr>\n",
              "    <tr>\n",
              "      <th>30</th>\n",
              "      <td>38</td>\n",
              "    </tr>\n",
              "    <tr>\n",
              "      <th>40</th>\n",
              "      <td>35</td>\n",
              "    </tr>\n",
              "    <tr>\n",
              "      <th>25</th>\n",
              "      <td>23</td>\n",
              "    </tr>\n",
              "    <tr>\n",
              "      <th>28</th>\n",
              "      <td>22</td>\n",
              "    </tr>\n",
              "  </tbody>\n",
              "</table>\n",
              "</div>"
            ],
            "text/plain": [
              "                   no.\n",
              "Cleaned_Age           \n",
              "33.66271028037383  749\n",
              "30                  38\n",
              "40                  35\n",
              "25                  23\n",
              "28                  22"
            ]
          },
          "metadata": {
            "tags": []
          },
          "execution_count": 54
        }
      ]
    },
    {
      "cell_type": "markdown",
      "metadata": {
        "id": "6XZNuv7CP05n"
      },
      "source": [
        "##### 7. Which gender had the most victims in accidents?"
      ]
    },
    {
      "cell_type": "code",
      "metadata": {
        "id": "Kmk8ygAQOIhp",
        "colab": {
          "base_uri": "https://localhost:8080/"
        },
        "outputId": "c35bfb80-3560-4a3a-f65c-806c215a676a"
      },
      "source": [
        "gender = accidents[['male_count', 'female_count', 'unknown_gender_count']]\n",
        "gender.sum()"
      ],
      "execution_count": 55,
      "outputs": [
        {
          "output_type": "execute_result",
          "data": {
            "text/plain": [
              "male_count              1073.0\n",
              "female_count             191.0\n",
              "unknown_gender_count      52.0\n",
              "dtype: float64"
            ]
          },
          "metadata": {
            "tags": []
          },
          "execution_count": 55
        }
      ]
    },
    {
      "cell_type": "code",
      "metadata": {
        "id": "XK7xBydMQMK0",
        "colab": {
          "base_uri": "https://localhost:8080/",
          "height": 373
        },
        "outputId": "84403553-7e05-4614-f7b8-956e9add5edf"
      },
      "source": [
        "plt.figure(figsize = (6,6))\n",
        "plt.title('Distribution of Victims by Gender', fontdict = {'fontsize':12}, color = 'blue')\n",
        "labels = ['male_count', 'female_count', 'unknown_gender_count']\n",
        "explode = 0.1, 0.2, 0\n",
        "plt.pie(gender.sum(), labels = labels, explode = explode, autopct = '%1.3f%%')\n",
        "plt.show()"
      ],
      "execution_count": 56,
      "outputs": [
        {
          "output_type": "display_data",
          "data": {
            "image/png": "[encoded data removed]",
            "text/plain": [
              "<Figure size 432x432 with 1 Axes>"
            ]
          },
          "metadata": {
            "tags": []
          }
        }
      ]
    }
  ]
}